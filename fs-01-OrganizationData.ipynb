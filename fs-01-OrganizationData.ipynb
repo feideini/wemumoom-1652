{
 "cells": [
  {
   "cell_type": "markdown",
   "metadata": {
    "collapsed": false
   },
   "source": [
    "### Introductory Concepts in Statistics"
   ]
  },
  {
   "cell_type": "markdown",
   "metadata": {
    "collapsed": false
   },
   "source": [
    "* A *population* is the complete collection of all meaents or data that are being considered.\n",
    "\n",
    "* A *census* is the collection of data from every memf the population.\n",
    "\n",
    "* A *sample* is a subcollection of members selected from a population."
   ]
  },
  {
   "cell_type": "markdown",
   "metadata": {
    "collapsed": false
   },
   "source": [
    "* A _voluntary response sample_ or _self-selected sample_ is one in which the respondents themselves decide whether to be included.\n",
    "\n",
    "* A _random sample_ is one in which each member has the same probability of being selected.\n",
    "\n",
    "* A _stratified random sample_ is one in which random samples from subgroups are drawn and proportionally combined to form the complete sample."
   ]
  },
  {
   "cell_type": "code",
   "execution_count": 0,
   "metadata": {
    "collapsed": false
   },
   "outputs": [
   ],
   "source": [
   ]
  }
 ],
 "metadata": {
  "kernelspec": {
   "display_name": "Julia",
   "language": "julia",
   "name": "julia"
  },
  "language_info": {
   "file_extension": ".jl",
   "mimetype": "application/julia",
   "name": "julia",
   "version": "0.6.2"
  }
 },
 "nbformat": 4,
 "nbformat_minor": 0
}