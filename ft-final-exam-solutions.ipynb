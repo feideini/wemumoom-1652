{
 "cells": [
  {
   "cell_type": "markdown",
   "metadata": {
    "collapsed": false
   },
   "source": [
    "Solve the logarithmic equation. Do not use a calculator for your calculation. It's OK to use a calculator to check your answer. [10]"
   ]
  },
  {
   "cell_type": "markdown",
   "metadata": {
    "collapsed": false
   },
   "source": [
    "$$\\log_{2}x-\\log_{2}\\frac{1}{4}=3$$"
   ]
  },
  {
   "cell_type": "markdown",
   "metadata": {
    "collapsed": false
   },
   "source": [
    "The solution set is $S=\\{2\\}$."
   ]
  },
  {
   "cell_type": "markdown",
   "metadata": {
    "collapsed": false
   },
   "source": [
    "Solve the exponential equation. Do not use a calculator for your calculation. It's OK to use a calculator to check your answer. [10]"
   ]
  },
  {
   "cell_type": "markdown",
   "metadata": {
    "collapsed": false
   },
   "source": [
    "$$3^{x-1}=e^{3x}$$"
   ]
  },
  {
   "cell_type": "markdown",
   "metadata": {
    "collapsed": false
   },
   "source": [
    "The solution set is $S=\\left\\{\\frac{\\ln{}3}{\\ln{}3-3}\\right\\}\\mbox{ or }S=\\{-0.57779\\}$."
   ]
  },
  {
   "cell_type": "markdown",
   "metadata": {
    "collapsed": false
   },
   "source": [
    "Use Newton's method to find an $x$-intercept for $f(x)=e^{x}-10x$. Show all of your work and all intermediate steps! [12]"
   ]
  },
  {
   "cell_type": "code",
   "execution_count": 1,
   "metadata": {
    "collapsed": true,
    "scrolled": true
   },
   "outputs": [
    {
     "name": "stdout",
     "output_type": "stream",
     "text": [
      "warning: function /home/user/octave/specfun-1.1.0/x86_64-pc-linux-gnu-api-v51/ellipj.oct shadows a built-in function\n"
     ]
    },
    {
     "name": "stdout",
     "output_type": "stream",
     "text": [
      "warning: called from\n"
     ]
    },
    {
     "name": "stdout",
     "output_type": "stream",
     "text": [
      "    load_packages_and_dependencies at line 48 column 5\n"
     ]
    },
    {
     "name": "stdout",
     "output_type": "stream",
     "text": [
      "    load_packages at line 47 column 3\n"
     ]
    },
    {
     "name": "stdout",
     "output_type": "stream",
     "text": [
      "    pkg at line 411 column 7\n"
     ]
    },
    {
     "name": "stdout",
     "output_type": "stream",
     "text": [
      "warning: function /home/user/octave/specfun-1.1.0/ellipke.m shadows a core library function\n"
     ]
    },
    {
     "name": "stdout",
     "output_type": "stream",
     "text": [
      "warning: called from\n"
     ]
    },
    {
     "name": "stdout",
     "output_type": "stream",
     "text": [
      "    load_packages_and_dependencies at line 48 column 5\n"
     ]
    },
    {
     "name": "stdout",
     "output_type": "stream",
     "text": [
      "    load_packages at line 47 column 3\n"
     ]
    },
    {
     "name": "stdout",
     "output_type": "stream",
     "text": [
      "    pkg at line 411 column 7\n"
     ]
    },
    {
     "name": "stdout",
     "output_type": "stream",
     "text": [
      "warning: function /home/user/octave/specfun-1.1.0/expint.m shadows a core library function\n"
     ]
    },
    {
     "name": "stdout",
     "output_type": "stream",
     "text": [
      "warning: called from\n"
     ]
    },
    {
     "name": "stdout",
     "output_type": "stream",
     "text": [
      "    load_packages_and_dependencies at line 48 column 5\n"
     ]
    },
    {
     "name": "stdout",
     "output_type": "stream",
     "text": [
      "    load_packages at line 47 column 3\n"
     ]
    },
    {
     "name": "stdout",
     "output_type": "stream",
     "text": [
      "    pkg at line 411 column 7\n"
     ]
    },
    {
     "name": "stdout",
     "output_type": "stream",
     "text": [
      "warning: function /home/user/octave/specfun-1.1.0/erfcinv.m shadows a built-in function\n"
     ]
    },
    {
     "name": "stdout",
     "output_type": "stream",
     "text": [
      "warning: called from\n"
     ]
    },
    {
     "name": "stdout",
     "output_type": "stream",
     "text": [
      "    load_packages_and_dependencies at line 48 column 5\n"
     ]
    },
    {
     "name": "stdout",
     "output_type": "stream",
     "text": [
      "    load_packages at line 47 column 3\n"
     ]
    },
    {
     "name": "stdout",
     "output_type": "stream",
     "text": [
      "    pkg at line 411 column 7\n"
     ]
    },
    {
     "name": "stdout",
     "output_type": "stream",
     "text": [
      "warning: function /home/user/octave/specfun-1.1.0/psi.m shadows a built-in function\n"
     ]
    },
    {
     "name": "stdout",
     "output_type": "stream",
     "text": [
      "warning: called from\n"
     ]
    },
    {
     "name": "stdout",
     "output_type": "stream",
     "text": [
      "    load_packages_and_dependencies at line 48 column 5\n"
     ]
    },
    {
     "name": "stdout",
     "output_type": "stream",
     "text": [
      "    load_packages at line 47 column 3\n"
     ]
    },
    {
     "name": "stdout",
     "output_type": "stream",
     "text": [
      "    pkg at line 411 column 7\n"
     ]
    }
   ],
   "source": [
    "pkg load specfun"
   ]
  },
  {
   "cell_type": "code",
   "execution_count": 2,
   "metadata": {
    "collapsed": false
   },
   "outputs": [
    {
     "name": "stdout",
     "output_type": "stream",
     "text": [
      "ans =  0.11183\n"
     ]
    }
   ],
   "source": [
    "-lambertw(-0.1)"
   ]
  },
  {
   "cell_type": "code",
   "execution_count": 3,
   "metadata": {
    "collapsed": false
   },
   "outputs": [
    {
     "name": "stdout",
     "output_type": "stream",
     "text": [
      "ans =  3.5772\n"
     ]
    }
   ],
   "source": [
    "-lambertw(-1,-0.1)"
   ]
  },
  {
   "cell_type": "markdown",
   "metadata": {
    "collapsed": false
   },
   "source": [
    "Find the area under the curve $y=(x^{2}-1)x$ between $x=-1$ and $x=0$. [12]"
   ]
  },
  {
   "cell_type": "code",
   "execution_count": 0,
   "metadata": {
    "collapsed": false
   },
   "outputs": [
   ],
   "source": [
    "x=var('x')"
   ]
  },
  {
   "cell_type": "code",
   "execution_count": 1,
   "metadata": {
    "collapsed": false
   },
   "outputs": [
   ],
   "source": [
    "from sage.symbolic.integration.integral import definite_integral"
   ]
  },
  {
   "cell_type": "code",
   "execution_count": 2,
   "metadata": {
    "collapsed": false,
    "scrolled": true
   },
   "outputs": [
    {
     "data": {
      "text/plain": [
       "1/4"
      ]
     },
     "execution_count": 2,
     "metadata": {
     },
     "output_type": "execute_result"
    }
   ],
   "source": [
    "definite_integral((x^2-1)*x,x,-1,0)"
   ]
  },
  {
   "cell_type": "markdown",
   "metadata": {
    "collapsed": false
   },
   "source": [
    "Differentiate [12]"
   ]
  },
  {
   "cell_type": "markdown",
   "metadata": {
    "collapsed": false
   },
   "source": [
    "$$f(x)=(x+4)\\sqrt{x-1}$$"
   ]
  },
  {
   "cell_type": "code",
   "execution_count": 3,
   "metadata": {
    "collapsed": false,
    "scrolled": true
   },
   "outputs": [
    {
     "data": {
      "text/plain": [
       "\\frac{x + 4}{2 \\, \\sqrt{x - 1}} + \\sqrt{x - 1}"
      ]
     },
     "execution_count": 3,
     "metadata": {
     },
     "output_type": "execute_result"
    }
   ],
   "source": [
    "latex(diff((x+4)*sqrt(x-1),x))"
   ]
  },
  {
   "cell_type": "markdown",
   "metadata": {
    "collapsed": false
   },
   "source": [
    "$$\\frac{x + 4}{2 \\, \\sqrt{x - 1}} + \\sqrt{x - 1}$$"
   ]
  },
  {
   "cell_type": "markdown",
   "metadata": {
    "collapsed": false
   },
   "source": [
    "Another way of putting this is $$\\frac{3x+2}{2\\sqrt{x-1}}$$"
   ]
  },
  {
   "cell_type": "markdown",
   "metadata": {
    "collapsed": false
   },
   "source": [
    "A juice shop wants to make the perfect banana smoothie. In order to do so, they need the smoothie to have 55% banana juice. The shop has a solution with 30% banana juice and a solution with 70% banana juice. How much of 30% banana juice do they need to get 100L of 55% banana juice? [10]"
   ]
  },
  {
   "cell_type": "markdown",
   "metadata": {
    "collapsed": false
   },
   "source": [
    "Consider the equation $$0.30x+0.70(100-x)=0.55\\cdot{}100$$"
   ]
  },
  {
   "cell_type": "markdown",
   "metadata": {
    "collapsed": false
   },
   "source": [
    "<font color=\"red\">37.5</font> litres of 30% banana juice is needed to make 100 litres of 55% banana juice."
   ]
  },
  {
   "cell_type": "markdown",
   "metadata": {
    "collapsed": false
   },
   "source": [
    "What are the critical points of the function $$g(s)=(4s^{2}-15s-18)\\frac{1}{6}s$$"
   ]
  },
  {
   "cell_type": "code",
   "execution_count": 4,
   "metadata": {
    "collapsed": false
   },
   "outputs": [
   ],
   "source": [
    "s=var('s')"
   ]
  },
  {
   "cell_type": "code",
   "execution_count": 5,
   "metadata": {
    "collapsed": false
   },
   "outputs": [
    {
     "data": {
      "text/plain": [
       "1/6*(8*s - 15)*s + 2/3*s^2 - 5/2*s - 3"
      ]
     },
     "execution_count": 5,
     "metadata": {
     },
     "output_type": "execute_result"
    }
   ],
   "source": [
    "diff((4*s^2-15*s-18)*(1/6)*s,s)"
   ]
  },
  {
   "cell_type": "code",
   "execution_count": 6,
   "metadata": {
    "collapsed": true
   },
   "outputs": [
    {
     "data": {
      "text/plain": [
       "\\frac{1}{6} \\, {\\left(8 \\, s - 15\\right)} s + \\frac{2}{3} \\, s^{2} - \\frac{5}{2} \\, s - 3"
      ]
     },
     "execution_count": 6,
     "metadata": {
     },
     "output_type": "execute_result"
    }
   ],
   "source": [
    "latex(diff((4*s^2-15*s-18)*(1/6)*s,s))"
   ]
  },
  {
   "cell_type": "markdown",
   "metadata": {
    "collapsed": false
   },
   "source": [
    "$$\\frac{1}{6} \\, {\\left(8 \\, s - 15\\right)} s + \\frac{2}{3} \\, s^{2} - \\frac{5}{2} \\, s - 3$$"
   ]
  },
  {
   "cell_type": "markdown",
   "metadata": {
    "collapsed": false
   },
   "source": [
    "Another way of putting this (sage, you are weird) is $$2s^{2}-5s-3$$"
   ]
  },
  {
   "cell_type": "code",
   "execution_count": 7,
   "metadata": {
    "collapsed": false
   },
   "outputs": [
    {
     "data": {
      "text/plain": [
       "[s == 3, s == (-1/2)]"
      ]
     },
     "execution_count": 7,
     "metadata": {
     },
     "output_type": "execute_result"
    }
   ],
   "source": [
    "solve(1/6*(8*s - 15)*s + 2/3*s^2 - 5/2*s - 3,s)"
   ]
  },
  {
   "cell_type": "code",
   "execution_count": 8,
   "metadata": {
    "collapsed": true
   },
   "outputs": [
    {
     "data": {
      "text/plain": [
       "4 \\, s - 5"
      ]
     },
     "execution_count": 8,
     "metadata": {
     },
     "output_type": "execute_result"
    }
   ],
   "source": [
    "latex(diff(1/6*(8*s - 15)*s + 2/3*s^2 - 5/2*s - 3),s)"
   ]
  },
  {
   "cell_type": "markdown",
   "metadata": {
    "collapsed": false
   },
   "source": [
    "The second derivative is $$4 \\, s - 5$$"
   ]
  },
  {
   "cell_type": "markdown",
   "metadata": {
    "collapsed": false
   },
   "source": [
    "Therefore, $x=3$ is a local minimum; $x=-\\frac{1}{2}$ is a local maximum."
   ]
  },
  {
   "cell_type": "markdown",
   "metadata": {
    "collapsed": false
   },
   "source": [
    "Forensic scientists determine the temperature $T$ (in $^{\\circ}C$) of a body $t$ hours after death from the equation"
   ]
  },
  {
   "cell_type": "markdown",
   "metadata": {
    "collapsed": false
   },
   "source": [
    "$$T=T_{0}+(37-T_{0})0.87^{t}$$"
   ]
  },
  {
   "cell_type": "markdown",
   "metadata": {
    "collapsed": false
   },
   "source": [
    "where $T_{0}$ is the air temperature. If a body is discovered at midnight with a body temperature of 27$^{\\circ}C$ in a room with air temperature 22$^{\\circ}C$, at what time did death occur (use the hour-minute format for your answer, for \\mbox{example} 7:42pm)? [10]"
   ]
  },
  {
   "cell_type": "markdown",
   "metadata": {
    "collapsed": false
   },
   "source": [
    "$$t=\\frac{\\ln\\frac{1}{3}}{\\ln{}0.87}=7.8888$$"
   ]
  },
  {
   "cell_type": "markdown",
   "metadata": {
    "collapsed": false
   },
   "source": [
    "Death occurred at approximately 4:11pm."
   ]
  },
  {
   "cell_type": "code",
   "execution_count": 1,
   "metadata": {
    "collapsed": false
   },
   "outputs": [
   ],
   "source": [
    "results <- read.table(\"ft-final-exam-results.csv\",sep=\",\",header=FALSE)"
   ]
  },
  {
   "cell_type": "code",
   "execution_count": 2,
   "metadata": {
    "collapsed": false
   },
   "outputs": [
    {
     "data": {
      "text/html": [
       "<table>\n",
       "<thead><tr><th scope=col>V1</th><th scope=col>V2</th><th scope=col>V3</th><th scope=col>V4</th><th scope=col>V5</th><th scope=col>V6</th><th scope=col>V7</th><th scope=col>V8</th><th scope=col>V9</th><th scope=col>V10</th><th scope=col>V11</th><th scope=col>V12</th><th scope=col>V13</th><th scope=col>V14</th></tr></thead>\n",
       "<tbody>\n",
       "\t<tr><td>316952           </td><td>818              </td><td>A00606722        </td><td>J92A             </td><td>Yazdani          </td><td>Nasrin           </td><td>10               </td><td>10               </td><td>12               </td><td>12               </td><td> 3               </td><td>10               </td><td>12.0             </td><td> 8               </td></tr>\n",
       "\t<tr><td>818730           </td><td>818              </td><td>A00854052        </td><td>N33V             </td><td>Larioza          </td><td>Jessica          </td><td> 2               </td><td> 2               </td><td> 6               </td><td> 1               </td><td>10               </td><td>10               </td><td> 2.0             </td><td> 3               </td></tr>\n",
       "\t<tr><td>493140           </td><td>818              </td><td>A00906126        </td><td>R52Z             </td><td>Ho               </td><td>Minh             </td><td> 1               </td><td> 2               </td><td> 6               </td><td> 2               </td><td> 1               </td><td> 4               </td><td> 1.0             </td><td> 7               </td></tr>\n",
       "\t<tr><td>317958           </td><td>818              </td><td>A00934153        </td><td>Q91Y             </td><td>Mourh            </td><td>Pawandeep        </td><td>10               </td><td>10               </td><td>12               </td><td>11               </td><td>12               </td><td>10               </td><td>10.5             </td><td>10               </td></tr>\n",
       "\t<tr><td>702069           </td><td>818              </td><td>A00982203        </td><td>T76K             </td><td>Ge               </td><td>Tiantian         </td><td> 8               </td><td>10               </td><td> 9               </td><td>12               </td><td>12               </td><td>10               </td><td>12.0             </td><td> 8               </td></tr>\n",
       "\t<tr><td>958889           </td><td>818              </td><td>A00986381        </td><td>T08K             </td><td>Hay              </td><td>Brendan          </td><td>10               </td><td>10               </td><td>12               </td><td>12               </td><td>12               </td><td>10               </td><td>12.0             </td><td>10               </td></tr>\n",
       "\t<tr><td>326553           </td><td>818              </td><td>A00991603        </td><td>E08Q             </td><td>Bhullar          </td><td>Jappnit          </td><td>10               </td><td> 2               </td><td>12               </td><td>10               </td><td> 2               </td><td>10               </td><td> 9.0             </td><td> 4               </td></tr>\n",
       "\t<tr><td>996667           </td><td>818              </td><td>A00992978        </td><td>K23N             </td><td>Cheng            </td><td>Joey             </td><td>10               </td><td>10               </td><td>12               </td><td>10               </td><td>12               </td><td>10               </td><td>12.0             </td><td>10               </td></tr>\n",
       "\t<tr><td>164378           </td><td>818              </td><td>A00997463        </td><td>P54T             </td><td>Lai              </td><td>Sandra           </td><td>10               </td><td> 3               </td><td>12               </td><td> 1               </td><td> 2               </td><td>10               </td><td>12.0             </td><td>10               </td></tr>\n",
       "\t<tr><td>820160           </td><td>818              </td><td>A00999047        </td><td>Q15K             </td><td>Mirzaei Sfanjani </td><td>Elahe            </td><td>10               </td><td>10               </td><td> 6               </td><td> 6               </td><td>12               </td><td> 1               </td><td> 6.0             </td><td> 8               </td></tr>\n",
       "\t<tr><td>358595           </td><td>818              </td><td>A01026362        </td><td>T44X             </td><td>Huang            </td><td>Jason            </td><td> 6               </td><td> 3               </td><td>12               </td><td>12               </td><td>12               </td><td>10               </td><td>12.0             </td><td> 2               </td></tr>\n",
       "\t<tr><td>727465           </td><td>818              </td><td>A01026532        </td><td>S95C             </td><td>Su               </td><td>Fang-Wen         </td><td>10               </td><td>10               </td><td>12               </td><td>10               </td><td> 2               </td><td>10               </td><td>10.0             </td><td>10               </td></tr>\n",
       "\t<tr><td>141404           </td><td>818              </td><td>A01026565        </td><td>L36H             </td><td>Chao             </td><td>Carlson          </td><td> 1               </td><td> 2               </td><td>12               </td><td>12               </td><td> 6               </td><td>10               </td><td> 1.0             </td><td> 8               </td></tr>\n",
       "\t<tr><td>115891           </td><td>818              </td><td>A01026969        </td><td>A65G             </td><td>Kim              </td><td>WooYeong         </td><td>10               </td><td>10               </td><td> 4               </td><td>12               </td><td>12               </td><td>10               </td><td> 9.0             </td><td> 8               </td></tr>\n",
       "\t<tr><td>710233           </td><td>818              </td><td>A01027223        </td><td>A63H             </td><td>Kafle            </td><td>Awatar           </td><td>10               </td><td>10               </td><td>12               </td><td> 6               </td><td>12               </td><td>10               </td><td>12.0             </td><td>10               </td></tr>\n",
       "\t<tr><td>359549           </td><td>818              </td><td>A01029131        </td><td>O30A             </td><td>Robertson        </td><td>Jacob            </td><td>10               </td><td> 3               </td><td>12               </td><td> 6               </td><td> 2               </td><td>10               </td><td> 9.0             </td><td>10               </td></tr>\n",
       "\t<tr><td>821577           </td><td>818              </td><td>A01029445        </td><td>A05V             </td><td>Cheng            </td><td>Byron            </td><td>10               </td><td> 0               </td><td> 4               </td><td> 6               </td><td> 5               </td><td>10               </td><td>10.0             </td><td> 8               </td></tr>\n",
       "\t<tr><td>993228           </td><td>818              </td><td>A01032771        </td><td>B92B             </td><td>Melgarejo Selvera</td><td>Rosa Helida      </td><td> 2               </td><td> 5               </td><td> 6               </td><td>10               </td><td>11               </td><td> 2               </td><td> 1.0             </td><td> 3               </td></tr>\n",
       "\t<tr><td>203412           </td><td>818              </td><td>A01037516        </td><td>F61B             </td><td>Manteghian       </td><td>Mehrab           </td><td>10               </td><td>10               </td><td>12               </td><td>12               </td><td>12               </td><td>10               </td><td>12.0             </td><td> 7               </td></tr>\n",
       "\t<tr><td>825250           </td><td>818              </td><td>A01037610        </td><td>Y26S             </td><td>Winarto          </td><td>Yemima           </td><td>10               </td><td>10               </td><td>12               </td><td>12               </td><td>12               </td><td>10               </td><td>12.0             </td><td>10               </td></tr>\n",
       "</tbody>\n",
       "</table>\n"
      ]
     },
     "execution_count": 2,
     "metadata": {
     },
     "output_type": "execute_result"
    }
   ],
   "source": [
    "results"
   ]
  },
  {
   "cell_type": "code",
   "execution_count": 15,
   "metadata": {
    "collapsed": false
   },
   "outputs": [
   ],
   "source": [
    "max <- c(10,10,12,12,12,10,12,10)"
   ]
  },
  {
   "cell_type": "code",
   "execution_count": 21,
   "metadata": {
    "collapsed": false
   },
   "outputs": [
    {
     "name": "stdout",
     "output_type": "stream",
     "text": [
      "[1] 0.8\n",
      "[1] 0.8\n",
      "[1] 0.6666667\n",
      "[1] 0.6666667\n",
      "[1] 0.6666667\n",
      "[1] 0.8\n",
      "[1] 0.6666667\n",
      "[1] 0.8\n"
     ]
    }
   ],
   "source": [
    "for (i in 7:14) {print((1/max[i-6])*sum(results[[7]])/length(results[[7]]))}"
   ]
  },
  {
   "cell_type": "code",
   "execution_count": 0,
   "metadata": {
    "collapsed": false
   },
   "outputs": [
   ],
   "source": [
   ]
  }
 ],
 "metadata": {
  "kernelspec": {
   "display_name": "R (SageMath)",
   "language": "r",
   "name": "ir-sage"
  },
  "language_info": {
   "codemirror_mode": {
    "name": "ipython",
    "version": 2
   },
   "file_extension": ".py",
   "mimetype": "text/x-python",
   "name": "python",
   "nbconvert_exporter": "python",
   "pygments_lexer": "ipython2",
   "version": "2.7.13"
  }
 },
 "nbformat": 4,
 "nbformat_minor": 0
}