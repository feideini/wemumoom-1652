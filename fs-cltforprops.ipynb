{
 "cells": [
  {
   "cell_type": "markdown",
   "metadata": {
    "collapsed": false
   },
   "source": [
    "### Central Limit Theorem for Proportions"
   ]
  },
  {
   "cell_type": "markdown",
   "metadata": {
    "collapsed": false
   },
   "source": [
    "Consider the following problem on Lab Report 8: A survey of 77 students found that 42% were in favour of raising tuition to build a new recreation center. The standard deviation of the sample proportion is 6.6%. How large a sample (to the nearest person) would be required to reduce this standard deviation to 3.2%?"
   ]
  },
  {
   "cell_type": "markdown",
   "metadata": {
    "collapsed": false
   },
   "source": [
    "This problem is based on the Central Limit Theorem for sample proportions (not the sample means). Just as with the sample means $\\bar{x}$, it makes sense to ask what the distribution of the sample proportions $\\hat{p}$ might be. The Central Limit Theorem for sample proportions tells us that the distribution for $\\hat{p}$ is approximately normal if the sample size $n>30$. The mean and standard deviation are $$\\mu_{\\bar{p}}=p$$ and $$\\sigma_{\\hat{p}}=\\sqrt{\\frac{p(1-p)}{n}}$$"
   ]
  },
  {
   "cell_type": "markdown",
   "metadata": {
    "collapsed": false
   },
   "source": [
    "for the Lab Report question, see <a href=\"http://bugs.webwork.maa.org/show_bug.cgi?id=4104\">my bug report</a>. "
   ]
  }
 ],
 "metadata": {
  "kernelspec": {
   "display_name": "SageMath (stable)",
   "name": "sagemath"
  },
  "language_info": {
   "codemirror_mode": {
    "name": "ipython",
    "version": 2
   },
   "file_extension": ".py",
   "mimetype": "text/x-python",
   "name": "python",
   "nbconvert_exporter": "python",
   "pygments_lexer": "ipython2",
   "version": "2.7.14"
  }
 },
 "nbformat": 4,
 "nbformat_minor": 0
}