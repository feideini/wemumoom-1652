{
 "cells": [
  {
   "cell_type": "markdown",
   "metadata": {
    "collapsed": false
   },
   "source": [
    "**Term Test C**"
   ]
  },
  {
   "cell_type": "markdown",
   "metadata": {
    "collapsed": false
   },
   "source": [
    "In bag A, there are 4 yellow and 3 green tokens. In bag B, there are 2 yellow and 5 green tokens. You toss a coin, for which the probability of heads is 2/3 and the probability of tails is 1/3. If you toss heads, you draw a token from bag A. If you toss tails, you draw a token from bag B. What is the probability that you draw a yellow token?"
   ]
  },
  {
   "cell_type": "code",
   "execution_count": 2,
   "metadata": {
    "collapsed": false
   },
   "outputs": [
    {
     "data": {
      "text/plain": [
       "10/21"
      ]
     },
     "execution_count": 2,
     "metadata": {
     },
     "output_type": "execute_result"
    }
   ],
   "source": [
    "(2/3)*(4/7)+(1/3)*(2/7)"
   ]
  },
  {
   "cell_type": "code",
   "execution_count": 3,
   "metadata": {
    "collapsed": false
   },
   "outputs": [
    {
     "data": {
      "text/plain": [
       "0.476190476190476"
      ]
     },
     "execution_count": 3,
     "metadata": {
     },
     "output_type": "execute_result"
    }
   ],
   "source": [
    "n(10/21)"
   ]
  },
  {
   "cell_type": "markdown",
   "metadata": {
    "collapsed": false
   },
   "source": [
    "A factory worker produces a mean of 96.5 units of a food product per hour with a standard deviation of 4.7 units. The distribution is normal. Determine the missing number $x$ in the following statement: 92\\% of the time, the factory worker produces more than $x$ units in an hour."
   ]
  },
  {
   "cell_type": "markdown",
   "metadata": {
    "collapsed": false
   },
   "source": [
    "![](./la-termtest-Ca-1-2.png)"
   ]
  },
  {
   "cell_type": "markdown",
   "metadata": {
    "collapsed": false
   },
   "source": [
    "Find the eigenvalues of the matrix\n",
    "$$\n",
    "A=\\left[\\begin{array}{cc}\n",
    "3&1\\\\-6&-4\n",
    "\\end{array}\\right]\\notag$$\n",
    "and provide one eigenvector for each eigenvalue."
   ]
  },
  {
   "cell_type": "code",
   "execution_count": 4,
   "metadata": {
    "collapsed": false
   },
   "outputs": [
   ],
   "source": [
    "A=matrix([[3,1],[-6,-4]])"
   ]
  },
  {
   "cell_type": "code",
   "execution_count": 5,
   "metadata": {
    "collapsed": false
   },
   "outputs": [
   ],
   "source": [
    "D, P = A.eigenmatrix_right()"
   ]
  },
  {
   "cell_type": "code",
   "execution_count": 6,
   "metadata": {
    "collapsed": false
   },
   "outputs": [
    {
     "data": {
      "text/plain": [
       "[ 2  0]\n",
       "[ 0 -3]"
      ]
     },
     "execution_count": 6,
     "metadata": {
     },
     "output_type": "execute_result"
    }
   ],
   "source": [
    "D"
   ]
  },
  {
   "cell_type": "code",
   "execution_count": 7,
   "metadata": {
    "collapsed": false
   },
   "outputs": [
    {
     "data": {
      "text/plain": [
       "[ 1  1]\n",
       "[-1 -6]"
      ]
     },
     "execution_count": 7,
     "metadata": {
     },
     "output_type": "execute_result"
    }
   ],
   "source": [
    "P"
   ]
  },
  {
   "cell_type": "markdown",
   "metadata": {
    "collapsed": false
   },
   "source": [
    "Mother paints 60\\% of her Easter eggs green and 40\\% in other colours. Father paints 35\\% of his Easter eggs green and 65\\% in other colours. There are one hundred eggs, 62 of which were painted by Father; the others by Mother. If you find a green egg, what is the probability that it was painted by Mother?"
   ]
  },
  {
   "cell_type": "code",
   "execution_count": 8,
   "metadata": {
    "collapsed": false
   },
   "outputs": [
    {
     "data": {
      "text/plain": [
       "0.512359550561798"
      ]
     },
     "execution_count": 8,
     "metadata": {
     },
     "output_type": "execute_result"
    }
   ],
   "source": [
    "(0.6*0.38)/(0.6*0.38+0.35*0.62)"
   ]
  },
  {
   "cell_type": "markdown",
   "metadata": {
    "collapsed": false
   },
   "source": [
    "A bakery product maintains its quality for a mean of 112 hours after production with a standard deviation of 10 hours. The distribution is normal. The best before date is chosen such that 95\\% of the product maintain their quality by that date. How many hours after production should the best before date be set?"
   ]
  },
  {
   "cell_type": "markdown",
   "metadata": {
    "collapsed": false
   },
   "source": [
    "![](./la-termtest-Ca-1-5.png)"
   ]
  },
  {
   "cell_type": "markdown",
   "metadata": {
    "collapsed": false
   },
   "source": [
    "To find where the circle centred at the origin with radius 2 intersects the exponential function, the following system of nonlinear equations needs to be solved:\n",
    "$$\n",
    "\\begin{array}{rcccl}\n",
    "x^{2}&+&y^{2}&=&4\\\\e^{x}&-&y&=&0\\end{array}\\notag$$ Linearize the equations and find $(x_{2},y_{2})$ after two iterations of Newton's method using as your initial guess $(x_{0},y_{0})=(1,2)$."
   ]
  },
  {
   "cell_type": "markdown",
   "metadata": {
    "collapsed": false
   },
   "source": [
    "![](./sonle.png)"
   ]
  },
  {
   "cell_type": "markdown",
   "metadata": {
    "collapsed": false
   },
   "source": [
    "$$F(x,y)=\\left[\\begin{array}{c}x^{2}+y^{2}-4\\\\e^{x}-y\\end{array}\\right]$$"
   ]
  },
  {
   "cell_type": "markdown",
   "metadata": {
    "collapsed": false
   },
   "source": [
    "$$J(x,y)=\\left[\\begin{array}{cc}2x&2y\\\\e^{x}&-y\\end{array}\\right]$$"
   ]
  },
  {
   "cell_type": "markdown",
   "metadata": {
    "collapsed": false
   },
   "source": [
    "$$\\begin{array}{rcl}2x+4y&=&9\\\\ex-y&=&e\\end{array}$$"
   ]
  },
  {
   "cell_type": "code",
   "execution_count": 14,
   "metadata": {
    "collapsed": false
   },
   "outputs": [
   ],
   "source": [
    "A1=matrix([[2,4],[exp(1),-1]])"
   ]
  },
  {
   "cell_type": "code",
   "execution_count": 10,
   "metadata": {
    "collapsed": false
   },
   "outputs": [
    {
     "data": {
      "text/plain": [
       "[ 2  4]\n",
       "[ e -1]"
      ]
     },
     "execution_count": 10,
     "metadata": {
     },
     "output_type": "execute_result"
    }
   ],
   "source": [
    "A1"
   ]
  },
  {
   "cell_type": "code",
   "execution_count": 18,
   "metadata": {
    "collapsed": false
   },
   "outputs": [
   ],
   "source": [
    "b=matrix([[9,exp(1)]]).transpose()"
   ]
  },
  {
   "cell_type": "code",
   "execution_count": 19,
   "metadata": {
    "collapsed": false
   },
   "outputs": [
   ],
   "source": [
    "x1=~A1*b"
   ]
  },
  {
   "cell_type": "code",
   "execution_count": 20,
   "metadata": {
    "collapsed": false
   },
   "outputs": [
    {
     "data": {
      "text/plain": [
       "[-7*e/(2*e + 1) + 9/2]\n",
       "[     7/2*e/(2*e + 1)]"
      ]
     },
     "execution_count": 20,
     "metadata": {
     },
     "output_type": "execute_result"
    }
   ],
   "source": [
    "x1"
   ]
  },
  {
   "cell_type": "code",
   "execution_count": 21,
   "metadata": {
    "collapsed": false
   },
   "outputs": [
    {
     "data": {
      "text/plain": [
       "[1.54376841223937]\n",
       "[1.47811579388031]"
      ]
     },
     "execution_count": 21,
     "metadata": {
     },
     "output_type": "execute_result"
    }
   ],
   "source": [
    "n(x1)"
   ]
  },
  {
   "cell_type": "markdown",
   "metadata": {
    "collapsed": false
   },
   "source": [
    "Four towers T1, T2, T3, and T4 stand on the vertices of a square in clockwise order. Surveyor A measures that the height of T2 exceeds the height of T1 by $3.64$ metres. Surveyor B measures that T2 exceeds the height of T3 by $1.65$ metres. Surveyor C measures that T4 exceeds the height of T3 by $4.08$ metres. Surveyor D measures that T4 exceeds the height of T1 by $6.49$ metres. Use least squares adjustment to find a better estimate for the height difference between T1 and T2."
   ]
  },
  {
   "cell_type": "markdown",
   "metadata": {
    "collapsed": false
   },
   "source": [
    "$$\\begin{array}{rcl}a&=&3.64\\\\b&=&-1.65\\\\c&=&4.08\\\\a+b+c&=&6.49\\end{array}$$"
   ]
  },
  {
   "cell_type": "code",
   "execution_count": 28,
   "metadata": {
    "collapsed": false
   },
   "outputs": [
   ],
   "source": [
    "A=matrix([[1,0,0],[0,1,0],[0,0,1],[1,1,1]])"
   ]
  },
  {
   "cell_type": "code",
   "execution_count": 29,
   "metadata": {
    "collapsed": false
   },
   "outputs": [
   ],
   "source": [
    "Y=matrix([[3.64,-1.65,4.08,6.49]]).transpose()"
   ]
  },
  {
   "cell_type": "code",
   "execution_count": 30,
   "metadata": {
    "collapsed": false
   },
   "outputs": [
   ],
   "source": [
    "v0=(A.transpose()*A).inverse()*A.transpose()*Y"
   ]
  },
  {
   "cell_type": "code",
   "execution_count": 31,
   "metadata": {
    "collapsed": false
   },
   "outputs": [
    {
     "data": {
      "text/plain": [
       "[ 3.74500000000000]\n",
       "[-1.54500000000000]\n",
       "[ 4.18500000000000]"
      ]
     },
     "execution_count": 31,
     "metadata": {
     },
     "output_type": "execute_result"
    }
   ],
   "source": [
    "v0"
   ]
  },
  {
   "cell_type": "markdown",
   "metadata": {
    "collapsed": false
   },
   "source": [
    "Find the eigenvalues for the matrix\n",
    "$$\n",
    "G=\\left[\\begin{array}{ccc}\n",
    "1&0&0\\\\-\\frac{1}{2}&0&1\\\\-1&-2&3\\end{array}\\right]\\notag$$"
   ]
  },
  {
   "cell_type": "code",
   "execution_count": 32,
   "metadata": {
    "collapsed": false
   },
   "outputs": [
   ],
   "source": [
    "R=matrix([[1,0,0],[-1/2,0,1],[-1,-2,3]])"
   ]
  },
  {
   "cell_type": "code",
   "execution_count": 34,
   "metadata": {
    "collapsed": false
   },
   "outputs": [
   ],
   "source": [
    "D,P=R.eigenmatrix_right()"
   ]
  },
  {
   "cell_type": "code",
   "execution_count": 35,
   "metadata": {
    "collapsed": false
   },
   "outputs": [
    {
     "data": {
      "text/plain": [
       "[2 0 0]\n",
       "[0 1 0]\n",
       "[0 0 1]"
      ]
     },
     "execution_count": 35,
     "metadata": {
     },
     "output_type": "execute_result"
    }
   ],
   "source": [
    "D"
   ]
  },
  {
   "cell_type": "code",
   "execution_count": 36,
   "metadata": {
    "collapsed": false
   },
   "outputs": [
    {
     "data": {
      "text/plain": [
       "[  0   1   0]\n",
       "[  1   0   1]\n",
       "[  2 1/2   1]"
      ]
     },
     "execution_count": 36,
     "metadata": {
     },
     "output_type": "execute_result"
    }
   ],
   "source": [
    "P"
   ]
  },
  {
   "cell_type": "code",
   "execution_count": 37,
   "metadata": {
    "collapsed": false
   },
   "outputs": [
    {
     "data": {
      "text/plain": [
       "[-1/2   -1    1]\n",
       "[   1    0    0]\n",
       "[ 1/2    2   -1]"
      ]
     },
     "execution_count": 37,
     "metadata": {
     },
     "output_type": "execute_result"
    }
   ],
   "source": [
    "~P"
   ]
  }
 ],
 "metadata": {
  "kernelspec": {
   "display_name": "SageMath (stable)",
   "language": "sagemath",
   "name": "sagemath"
  }
 },
 "nbformat": 4,
 "nbformat_minor": 0
}