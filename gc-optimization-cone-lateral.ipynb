{
 "cells": [
  {
   "cell_type": "markdown",
   "metadata": {
    "collapsed": false
   },
   "source": [
    "(8) A conical tent is to have $1000$ft$^{3}$ capacity. Find its dimensions if the amount of canvas is to be a minimum. Disregard the floor. Note that the formula for the volume of a cone is $$V=\\frac{1}{3}r^{2}\\pi{}h$$ The formula for the area of the lateral surface of a cone (without the floor) is $$A=\\pi{}rs$$ where $s$ is the slant height (see diagram).\n"
   ]
  },
  {
   "cell_type": "markdown",
   "metadata": {
    "collapsed": false
   },
   "source": [
    "<img src=\"coneslantheight.png\">"
   ]
  },
  {
   "cell_type": "markdown",
   "metadata": {
    "collapsed": false
   },
   "source": [
    "**Step 1:** $A(r)=\\pi{}rs$"
   ]
  },
  {
   "cell_type": "markdown",
   "metadata": {
    "collapsed": false
   },
   "source": [
    "**Step 2:** $s=\\sqrt{r^{2}+h^{2}}$ and $\\frac{1}{3}r^{2}\\pi{}h=1000$ therefore $$s=\\sqrt{r^{2}+\\frac{9\\cdot{}10^{6}}{r^{4}\\pi^{2}}}$$ $$A(r)=\\pi{}r\\sqrt{r^{2}+\\frac{9\\cdot{}10^{6}}{r^{4}\\pi^{2}}}=\\pi{}\\sqrt{r^{4}+\\frac{9\\cdot{}10^{6}}{r^{2}\\pi^{2}}}$$"
   ]
  },
  {
   "cell_type": "markdown",
   "metadata": {
    "collapsed": false
   },
   "source": [
    "**Step 3:** $$A'(r)=\\pi\\cdot\\frac{4r^{3}-\\frac{18\\cdot{}10^{6}}{r^{3}\\pi^{2}}}{2\\sqrt{r^{4}+\\frac{9\\cdot{}10^{6}}{r^{2}\\pi^{2}}}}$$"
   ]
  },
  {
   "cell_type": "markdown",
   "metadata": {
    "collapsed": false
   },
   "source": [
    "It follows that, solving $A'(r)=0$, $$4r^{3}=\\frac{18\\cdot{}10^{6}}{r^{3}\\pi^{2}}$$ Isolate $r$ for $$r=10\\cdot\\left(\\frac{9}{2\\pi^{2}}\\right)^{\\frac{1}{6}}$$"
   ]
  },
  {
   "cell_type": "code",
   "execution_count": 11,
   "metadata": {
    "collapsed": false
   },
   "outputs": [
   ],
   "source": [
    "r=((9/(2*pi^2))^(1/6))*10"
   ]
  },
  {
   "cell_type": "markdown",
   "metadata": {
    "collapsed": false
   },
   "source": [
    "Since $h=\\frac{3000}{r^{2}\\pi}$"
   ]
  },
  {
   "cell_type": "code",
   "execution_count": 12,
   "metadata": {
    "collapsed": false
   },
   "outputs": [
   ],
   "source": [
    "h=3000/(r^2*pi)"
   ]
  },
  {
   "cell_type": "code",
   "execution_count": 13,
   "metadata": {
    "collapsed": false
   },
   "outputs": [
    {
     "data": {
      "text/plain": [
       "(8.77308077654739, 12.4070098179880)"
      ]
     },
     "execution_count": 13,
     "metadata": {
     },
     "output_type": "execute_result"
    }
   ],
   "source": [
    "(n(r),n(h))"
   ]
  },
  {
   "cell_type": "markdown",
   "metadata": {
    "collapsed": false
   },
   "source": [
    "Answer: if the amount of the canvas is to be at a minimum, then the dimensions should be approximately $r=8.77$ feet and $h=12.41$ feet."
   ]
  }
 ],
 "metadata": {
  "kernelspec": {
   "display_name": "SageMath (stable)",
   "name": "sagemath"
  },
  "language_info": {
   "codemirror_mode": {
    "name": "ipython",
    "version": 2
   },
   "file_extension": ".py",
   "mimetype": "text/x-python",
   "name": "python",
   "nbconvert_exporter": "python",
   "pygments_lexer": "ipython2",
   "version": "2.7.14"
  }
 },
 "nbformat": 4,
 "nbformat_minor": 0
}