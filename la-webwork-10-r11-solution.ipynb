{
 "cells": [
  {
   "cell_type": "markdown",
   "metadata": {
    "collapsed": false
   },
   "source": [
    "**Lab Report 10 Problem 20**"
   ]
  },
  {
   "cell_type": "markdown",
   "metadata": {
    "collapsed": false
   },
   "source": [
    "A survey of 74 students found that 35% were in favour of raising tuition to build a new football stadium. The standard deviation of the sample proportion is 6.8%. How large a sample (to the nearest person) would be required to reduce this standard deviation to 3.9%?"
   ]
  },
  {
   "cell_type": "markdown",
   "metadata": {
    "collapsed": false
   },
   "source": [
    "*Comment: This problem was not covered in our material. Apologies.*"
   ]
  },
  {
   "cell_type": "markdown",
   "metadata": {
    "collapsed": false
   },
   "source": [
    "There is a Central Limit Theorem for proportions as well as for means. We learned the one about sample means. This problem is about the CLT for proportions. If you have a population, such as all students at a university, and a population proportion; then taking samples of 74 students will give you many different sample proportions. These sample proportions have a standard deviation. According to the CLT, this standard deviation is $$\\sigma_{\\hat{p}}=$$"
   ]
  },
  {
   "cell_type": "markdown",
   "metadata": {
    "collapsed": false
   },
   "source": [
    "Last year, we learned that the standard deviation of a binomial distribution is $\\sigma=\\sqrt{np(1-p)}$. If you have a population, such as all students at a university, and a population proportion; then taking samples of 74 students will give you many different sample proportions. These sample proportions have a standard deviation, which is the standard deviation of the binomial distribution. In our case, $$0.068=\\sqrt{74p(1-p)}$$"
   ]
  }
 ],
 "metadata": {
  "kernelspec": {
   "display_name": "SageMath (stable)",
   "language": "sagemath",
   "name": "sagemath"
  }
 },
 "nbformat": 4,
 "nbformat_minor": 0
}