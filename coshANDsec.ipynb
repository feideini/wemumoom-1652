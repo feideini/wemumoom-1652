{
 "cells": [
  {
   "cell_type": "markdown",
   "metadata": {
    "collapsed": false
   },
   "source": [
    "Choose the correct answer for what follows from $$x=\\ln(\\sec\\vartheta+\\tan\\vartheta)$$"
   ]
  },
  {
   "cell_type": "markdown",
   "metadata": {
    "collapsed": false
   },
   "source": [
    "1. $\\cosh{}x=\\sin\\vartheta$\n",
    "2. $\\cosh{}x=\\cos\\vartheta$\n",
    "3. $\\cosh{}x=\\csc\\vartheta$\n",
    "4. $\\cosh{}x=\\sec\\vartheta$"
   ]
  },
  {
   "cell_type": "markdown",
   "metadata": {
    "collapsed": false
   },
   "source": [
    "Solution: The correct answer is (4) because"
   ]
  },
  {
   "cell_type": "markdown",
   "metadata": {
    "collapsed": false
   },
   "source": [
    "$$\\cosh{}x=\\frac{1}{2}\\left(e^{\\ln(\\sec\\vartheta+\\tan\\vartheta)}+e^{-\\ln(\\sec\\vartheta+\\tan\\vartheta}\\right)=$$"
   ]
  },
  {
   "cell_type": "markdown",
   "metadata": {
    "collapsed": false
   },
   "source": [
    "$$\\frac{1}{2}\\left(\\frac{1+\\sin\\vartheta}{\\cos\\vartheta}+\\frac{\\cos\\vartheta}{1+\\sin\\vartheta}\\right)=\\frac{1}{2}\\cdot\\frac{(1+\\sin\\vartheta)^{2}+\\cos^{2}\\vartheta}{\\cos\\vartheta(1+\\sin\\vartheta)}$$"
   ]
  },
  {
   "cell_type": "markdown",
   "metadata": {
    "collapsed": false
   },
   "source": [
    "In the lab, I made a mistake: $$\\frac{1}{2}\\cdot\\frac{(1+\\sin\\vartheta)^{2}+\\cos^{2}\\vartheta}{\\cos\\vartheta(1+\\sin\\vartheta)}\\neq\\frac{1}{2}\\cdot\\frac{1+\\sin^{2}\\vartheta+\\cos^{2}\\vartheta}{\\cos\\vartheta(1+\\sin\\vartheta)}=\\frac{1}{2}\\cdot\\frac{1+1}{\\cos\\vartheta(1+\\sin\\vartheta)}$$"
   ]
  },
  {
   "cell_type": "markdown",
   "metadata": {
    "collapsed": false
   },
   "source": [
    "The correct way to proceed is"
   ]
  },
  {
   "cell_type": "markdown",
   "metadata": {
    "collapsed": false
   },
   "source": [
    "$$\\frac{1}{2}\\cdot\\frac{(1+\\sin\\vartheta)^{2}+\\cos^{2}\\vartheta}{\\cos\\vartheta(1+\\sin\\vartheta)}=\\frac{1}{2}\\cdot\\frac{1+2\\sin\\vartheta+\\sin^{2}\\vartheta+\\cos^{2}\\vartheta}{\\cos\\vartheta(1+\\sin\\vartheta)}=\\frac{1}{2}\\cdot\\frac{2+2\\sin\\vartheta}{\\cos\\vartheta(1+\\sin\\vartheta)}=$$"
   ]
  },
  {
   "cell_type": "markdown",
   "metadata": {
    "collapsed": false
   },
   "source": [
    "$$\\frac{1}{2}\\cdot\\frac{2\\cdot(1+\\sin\\vartheta)}{\\cos\\vartheta(1+\\sin\\vartheta)}=\\frac{1}{\\cos\\vartheta}=\\sec\\vartheta$$"
   ]
  }
 ],
 "metadata": {
  "kernelspec": {
   "display_name": "Julia",
   "language": "julia",
   "name": "julia"
  },
  "language_info": {
   "file_extension": ".jl",
   "mimetype": "application/julia",
   "name": "julia",
   "version": "0.6.2"
  }
 },
 "nbformat": 4,
 "nbformat_minor": 0
}