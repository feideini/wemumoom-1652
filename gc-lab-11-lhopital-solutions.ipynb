{
 "cells": [
  {
   "cell_type": "markdown",
   "metadata": {
    "collapsed": false
   },
   "source": [
    "**(1)** Find $$\\lim_{x\\rightarrow{}0^{+}}\\sin{}x\\ln{}x$$"
   ]
  },
  {
   "cell_type": "markdown",
   "metadata": {
    "collapsed": false
   },
   "source": [
    "Make sure to check that you only use LHR when there is an indeterminate form."
   ]
  },
  {
   "cell_type": "markdown",
   "metadata": {
    "collapsed": false
   },
   "source": [
    "$$\\lim_{x\\rightarrow{}0^{+}}\\sin{}x\\ln{}x=\\lim_{x\\rightarrow{}0^{+}}\\frac{\\ln{}x}{\\csc{}x}\\stackrel{\\mbox{LHR}}{=}\\lim_{x\\rightarrow{}0^{+}}\\frac{\\frac{1}{x}}{-\\csc{}x\\cdot{}\\cot{}x}=$$"
   ]
  },
  {
   "cell_type": "markdown",
   "metadata": {
    "collapsed": false
   },
   "source": [
    "$$\\lim_{x\\rightarrow{}0^{+}}\\frac{-\\sin^{2}x}{x\\cos{}x}=\\frac{0}{0}$$"
   ]
  },
  {
   "cell_type": "markdown",
   "metadata": {
    "collapsed": false
   },
   "source": [
    "Use LHR again for $$\\lim_{x\\rightarrow{}0^{+}}\\frac{-\\sin^{2}x}{x\\cos{}x}\\stackrel{\\mbox{LHR}}{=}\\lim_{x\\rightarrow{}0^{+}}\\frac{-2\\sin{}x\\cos{}x}{\\cos{}x-x\\sin{}x}=\\frac{0}{1-0}=0$$"
   ]
  },
  {
   "cell_type": "markdown",
   "metadata": {
    "collapsed": false
   },
   "source": [
    "**(2)** Find $$\\lim_{x\\rightarrow{}0}\\frac{e^{x}-e^{-x}-2x}{x-\\sin{}x}$$"
   ]
  },
  {
   "cell_type": "markdown",
   "metadata": {
    "collapsed": false
   },
   "source": [
    "Make sure to check that you only use LHR when there is an indeterminate form."
   ]
  },
  {
   "cell_type": "markdown",
   "metadata": {
    "collapsed": false
   },
   "source": [
    "$$\\lim_{x\\rightarrow{}0}\\frac{e^{x}-e^{-x}-2x}{x-\\sin{}x}\\stackrel{\\mbox{LHR}}{=}\\lim_{x\\rightarrow{}0}\\frac{e^{x}+e^{-x}-2}{1-\\cos{}x}\\stackrel{\\mbox{LHR}}{=}\\lim_{x\\rightarrow{}0}\\frac{e^{x}-e^{-x}}{\\sin{}x}\\stackrel{\\mbox{LHR}}{=}\\lim_{x\\rightarrow{}0}\\frac{e^{x}+e^{-x}}{\\cos{}x}=\\frac{1+1}{1}=2$$"
   ]
  },
  {
   "cell_type": "markdown",
   "metadata": {
    "collapsed": false
   },
   "source": [
    "**(3)** A cylindrical can is to be made to hold one litre of oil. Find the dimensions that will minimize the cost of the metal to manufacture the can."
   ]
  },
  {
   "cell_type": "markdown",
   "metadata": {
    "collapsed": false
   },
   "source": [
    "**Step 1:** Find a function for that which you are trying to optimize, in this case the area of the can. $$A(r)=2r^{2}\\pi+2\\pi{}rh$$"
   ]
  },
  {
   "cell_type": "markdown",
   "metadata": {
    "collapsed": false
   },
   "source": [
    "**Step 2:** Use the side constraint $$1=r^{2}\\pi{}h$$ to replace $h$ in terms of $r$ $$A(r)=2r^{2}\\pi+\\frac{2\\pi{}r}{r^{2}\\pi}=A(r)=2\\left(r^{2}\\pi+\\frac{1}{r}\\right)$$"
   ]
  },
  {
   "cell_type": "markdown",
   "metadata": {
    "collapsed": false
   },
   "source": [
    "**Step 3:** Differentiate and set to zero. $$A'(r)=2\\left(2r\\pi-\\frac{1}{r^{2}}\\right)=0$$"
   ]
  },
  {
   "cell_type": "markdown",
   "metadata": {
    "collapsed": false
   },
   "source": [
    "Solve the equation for $$r=\\sqrt[3]{\\frac{1}{2\\pi}}=0.54193$$"
   ]
  },
  {
   "cell_type": "markdown",
   "metadata": {
    "collapsed": false
   },
   "source": [
    "Finally, use the side constraint for $$h=\\frac{1}{\\left(\\frac{1}{2\\pi}\\right)^{\\frac{2}{3}}\\pi}=1.0839$$ **Answer:** The dimensions that will minimize the cost of the metal to manufacture the can are $r=0.54193$dm and $h=1.0839$dm."
   ]
  },
  {
   "cell_type": "markdown",
   "metadata": {
    "collapsed": false
   },
   "source": [
    "**(4)** A farmer has 2400ft of fencing and wants to fence off a rectangular field that borders a straight river. She needs no fence along the river. What are the dimensions of the field that has the largest area?"
   ]
  },
  {
   "cell_type": "markdown",
   "metadata": {
    "collapsed": false
   },
   "source": [
    "**Step 1:** $$A(w)=l\\cdot{}w$$"
   ]
  },
  {
   "cell_type": "markdown",
   "metadata": {
    "collapsed": false
   },
   "source": [
    "**Step 2:** $l+2w=2400$, therefore $l=2400-2w$ and $$A(w)=(2400-2w)\\cdot{}w=2400w-2w^{2}$$"
   ]
  },
  {
   "cell_type": "markdown",
   "metadata": {
    "collapsed": false
   },
   "source": [
    "**Step 3:** Differentiate and set to zero. $$A'(w)=2400-4w=0$$ **Answer:** The dimensions of the field that has the largest area are $w=600,l=1200$."
   ]
  },
  {
   "cell_type": "markdown",
   "metadata": {
    "collapsed": false
   },
   "source": [
    "**(5)** Find $$\\lim_{x\\rightarrow{}1}\\frac{1-x+\\ln{}x}{1+\\cos\\pi{}x}$$"
   ]
  },
  {
   "cell_type": "markdown",
   "metadata": {
    "collapsed": false
   },
   "source": [
    "Make sure to check that you only use LHR when there is an indeterminate form."
   ]
  },
  {
   "cell_type": "markdown",
   "metadata": {
    "collapsed": false
   },
   "source": [
    "$$\\lim_{x\\rightarrow{}1}\\frac{1-x+\\ln{}x}{1+\\cos\\pi{}x}\\stackrel{\\mbox{LHR}}{=}\\lim_{x\\rightarrow{}1}\\frac{-1+\\frac{1}{x}}{-\\pi\\sin\\pi{}x}\\stackrel{\\mbox{LHR}}{=}\\lim_{x\\rightarrow{}1}\\frac{-\\frac{1}{x^{2}}}{-\\pi^{2}\\cos\\pi{}x}=-\\frac{1}{\\pi^{2}}$$"
   ]
  },
  {
   "cell_type": "markdown",
   "metadata": {
    "collapsed": false
   },
   "source": [
    "**(6)** How close does the semi-circle $y=\\sqrt{16-x^{2}}$ come to the point $P=(1,\\sqrt{3})$?"
   ]
  },
  {
   "cell_type": "markdown",
   "metadata": {
    "collapsed": false
   },
   "source": [
    "<img src=\"optsemi.png\">"
   ]
  },
  {
   "cell_type": "markdown",
   "metadata": {
    "collapsed": false
   },
   "source": [
    "**Step 1:** Define $$f(a)=\\sqrt{a^{2}+b^{2}}$$"
   ]
  },
  {
   "cell_type": "markdown",
   "metadata": {
    "collapsed": false
   },
   "source": [
    "**Step 2:** Use the fact that $Q$ is on the semi-circle to replace $b$ in terms of $a$ $$b+\\sqrt{3}=\\sqrt{16-(a+1)^{2}}$$"
   ]
  },
  {
   "cell_type": "markdown",
   "metadata": {
    "collapsed": false
   },
   "source": [
    "$$f(a)=\\sqrt{a^{2}+\\left(\\sqrt{16-(a+1)^{2}}-\\sqrt{3}\\right)^{2}}$$"
   ]
  },
  {
   "cell_type": "markdown",
   "metadata": {
    "collapsed": false
   },
   "source": [
    "**Step 3:** Differentiate and set to zero $$f'(a)=\\frac{-2-2\\sqrt{3}\\frac{-2a-2}{2\\cdot\\sqrt{-a^{2}-2a+15}}}{2\\cdot\\sqrt{18-2a-2\\sqrt{3}\\sqrt{-a^{2}-2a+15}}}=0$$"
   ]
  },
  {
   "cell_type": "markdown",
   "metadata": {
    "collapsed": false
   },
   "source": [
    "Recall that a fraction is zero if and only if the numerator is zero. The equation simplifies to $$a^{2}+2a-3=0$$ for which the solutions are $a=-3,a=1$. **Answer:** The coordinates of $Q$ are $(2,\\sqrt{12}-\\sqrt{3})$ and the distance from $P$ to $Q$ is 2 (think about why this is not surprising). Note that the solution $a=-3$ provides us with the maximum distance of a point on the semi-circle to $P$."
   ]
  },
  {
   "cell_type": "markdown",
   "metadata": {
    "collapsed": false
   },
   "source": [
    "**(7a)**"
   ]
  },
  {
   "cell_type": "code",
   "execution_count": 10,
   "metadata": {
    "collapsed": false
   },
   "outputs": [
   ],
   "source": [
    "x=var('x')"
   ]
  },
  {
   "cell_type": "code",
   "execution_count": 2,
   "metadata": {
    "collapsed": false
   },
   "outputs": [
   ],
   "source": [
    "f(x)=x^6-x^5-6*x^4-x^2+x+10"
   ]
  },
  {
   "cell_type": "code",
   "execution_count": 3,
   "metadata": {
    "collapsed": false
   },
   "outputs": [
   ],
   "source": [
    "fp(x)=diff(f(x),x)"
   ]
  },
  {
   "cell_type": "markdown",
   "metadata": {
    "collapsed": false
   },
   "source": [
    "$$f'(x)=6 \\, x^{5} - 5 \\, x^{4} - 24 \\, x^{3} - 2 \\, x + 1$$"
   ]
  },
  {
   "cell_type": "markdown",
   "metadata": {
    "collapsed": false
   },
   "source": [
    "Since $f(1)=4$ and $f(2)=-56$, I know that there is a $x$-intercept in the interval $[1,2]$. I choose $x_{1}=1$."
   ]
  },
  {
   "cell_type": "code",
   "execution_count": 24,
   "metadata": {
    "collapsed": false
   },
   "outputs": [
   ],
   "source": [
    "x1=1"
   ]
  },
  {
   "cell_type": "code",
   "execution_count": 25,
   "metadata": {
    "collapsed": false
   },
   "outputs": [
   ],
   "source": [
    "x2=x1-(f(x1)/fp(x1))"
   ]
  },
  {
   "cell_type": "code",
   "execution_count": 26,
   "metadata": {
    "collapsed": false
   },
   "outputs": [
    {
     "data": {
      "text/plain": [
       "1.16666666666667"
      ]
     },
     "execution_count": 26,
     "metadata": {
     },
     "output_type": "execute_result"
    }
   ],
   "source": [
    "n(x2)"
   ]
  },
  {
   "cell_type": "code",
   "execution_count": 27,
   "metadata": {
    "collapsed": false
   },
   "outputs": [
   ],
   "source": [
    "x3=x2-(f(x2)/fp(x2))"
   ]
  },
  {
   "cell_type": "code",
   "execution_count": 28,
   "metadata": {
    "collapsed": false
   },
   "outputs": [
    {
     "data": {
      "text/plain": [
       "1.14008652743594"
      ]
     },
     "execution_count": 28,
     "metadata": {
     },
     "output_type": "execute_result"
    }
   ],
   "source": [
    "n(x3)"
   ]
  },
  {
   "cell_type": "code",
   "execution_count": 29,
   "metadata": {
    "collapsed": false
   },
   "outputs": [
   ],
   "source": [
    "x4=x3-(f(x3)/fp(x3))"
   ]
  },
  {
   "cell_type": "code",
   "execution_count": 30,
   "metadata": {
    "collapsed": false
   },
   "outputs": [
    {
     "data": {
      "text/plain": [
       "1.13929444014290"
      ]
     },
     "execution_count": 30,
     "metadata": {
     },
     "output_type": "execute_result"
    }
   ],
   "source": [
    "n(x4)"
   ]
  },
  {
   "cell_type": "code",
   "execution_count": 31,
   "metadata": {
    "collapsed": false
   },
   "outputs": [
   ],
   "source": [
    "x5=x4-(f(x4)/fp(x4))"
   ]
  },
  {
   "cell_type": "code",
   "execution_count": 32,
   "metadata": {
    "collapsed": false
   },
   "outputs": [
    {
     "data": {
      "text/plain": [
       "1.13929374596799"
      ]
     },
     "execution_count": 32,
     "metadata": {
     },
     "output_type": "execute_result"
    }
   ],
   "source": [
    "n(x5)"
   ]
  },
  {
   "cell_type": "markdown",
   "metadata": {
    "collapsed": false
   },
   "source": [
    "One solution for the equation $x^{6}-x^{5}-6x^{4}-x^{2}+x+10=0$ is $x\\approx{}1.39294$."
   ]
  },
  {
   "cell_type": "markdown",
   "metadata": {
    "collapsed": false
   },
   "source": [
    "**(7b)**"
   ]
  },
  {
   "cell_type": "code",
   "execution_count": 33,
   "metadata": {
    "collapsed": false
   },
   "outputs": [
   ],
   "source": [
    "f(x)=(4/(x^2+1))-x^2*(4-x^2)"
   ]
  },
  {
   "cell_type": "code",
   "execution_count": 34,
   "metadata": {
    "collapsed": false
   },
   "outputs": [
   ],
   "source": [
    "fp(x)=diff(f(x),x)"
   ]
  },
  {
   "cell_type": "markdown",
   "metadata": {
    "collapsed": false
   },
   "source": [
    "$$f'(x)=2 \\, x^{3} + 2 \\, {\\left(x^{2} - 4\\right)} x - \\frac{8 \\, x}{{\\left(x^{2} + 1\\right)}^{2}}$$"
   ]
  },
  {
   "cell_type": "markdown",
   "metadata": {
    "collapsed": false
   },
   "source": [
    "Since $f(0)=4$ and $f(1)=-1$, there must be an $x$-intercept in the interval $[0,1]$. I choose $x_{1}=1$ again."
   ]
  },
  {
   "cell_type": "code",
   "execution_count": 39,
   "metadata": {
    "collapsed": false
   },
   "outputs": [
   ],
   "source": [
    "x1=1"
   ]
  },
  {
   "cell_type": "code",
   "execution_count": 40,
   "metadata": {
    "collapsed": false
   },
   "outputs": [
   ],
   "source": [
    "x2=x1-(f(x1)/fp(x1))"
   ]
  },
  {
   "cell_type": "code",
   "execution_count": 41,
   "metadata": {
    "collapsed": false
   },
   "outputs": [
    {
     "data": {
      "text/plain": [
       "0.833333333333333"
      ]
     },
     "execution_count": 41,
     "metadata": {
     },
     "output_type": "execute_result"
    }
   ],
   "source": [
    "n(x2)"
   ]
  },
  {
   "cell_type": "code",
   "execution_count": 42,
   "metadata": {
    "collapsed": false
   },
   "outputs": [
   ],
   "source": [
    "x3=x2-(f(x2)/fp(x2))"
   ]
  },
  {
   "cell_type": "code",
   "execution_count": 43,
   "metadata": {
    "collapsed": false
   },
   "outputs": [
    {
     "data": {
      "text/plain": [
       "0.843092535766353"
      ]
     },
     "execution_count": 43,
     "metadata": {
     },
     "output_type": "execute_result"
    }
   ],
   "source": [
    "n(x3)"
   ]
  },
  {
   "cell_type": "code",
   "execution_count": 44,
   "metadata": {
    "collapsed": false
   },
   "outputs": [
   ],
   "source": [
    "x4=x3-(f(x3)/fp(x3))"
   ]
  },
  {
   "cell_type": "code",
   "execution_count": 45,
   "metadata": {
    "collapsed": false
   },
   "outputs": [
    {
     "data": {
      "text/plain": [
       "0.843108209827693"
      ]
     },
     "execution_count": 45,
     "metadata": {
     },
     "output_type": "execute_result"
    }
   ],
   "source": [
    "n(x4)"
   ]
  },
  {
   "cell_type": "code",
   "execution_count": 46,
   "metadata": {
    "collapsed": false
   },
   "outputs": [
   ],
   "source": [
    "x5=x4-(f(x4)/fp(x4))"
   ]
  },
  {
   "cell_type": "code",
   "execution_count": 47,
   "metadata": {
    "collapsed": false
   },
   "outputs": [
    {
     "data": {
      "text/plain": [
       "0.843108209870886"
      ]
     },
     "execution_count": 47,
     "metadata": {
     },
     "output_type": "execute_result"
    }
   ],
   "source": [
    "n(x5)"
   ]
  },
  {
   "cell_type": "markdown",
   "metadata": {
    "collapsed": false
   },
   "source": [
    "One solution for the equation $x^{2}(4-x^{2})=\\frac{4}{x^{2}+1}$ is $x\\approx{}0.84311$."
   ]
  },
  {
   "cell_type": "markdown",
   "metadata": {
    "collapsed": false
   },
   "source": [
    "**(7c)**"
   ]
  },
  {
   "cell_type": "code",
   "execution_count": 48,
   "metadata": {
    "collapsed": false
   },
   "outputs": [
   ],
   "source": [
    "f(x)=1-x^2*sqrt(2-x-x^2)"
   ]
  },
  {
   "cell_type": "code",
   "execution_count": 49,
   "metadata": {
    "collapsed": false
   },
   "outputs": [
   ],
   "source": [
    "fp(x)=diff(f(x),x)"
   ]
  },
  {
   "cell_type": "markdown",
   "metadata": {
    "collapsed": false
   },
   "source": [
    "$$f'(x)=\\frac{{\\left(2 \\, x + 1\\right)} x^{2}}{2 \\, \\sqrt{-x^{2} - x + 2}} - 2 \\, \\sqrt{-x^{2} - x + 2} x$$"
   ]
  },
  {
   "cell_type": "markdown",
   "metadata": {
    "collapsed": false
   },
   "source": [
    "Since $f(-1)=1-\\sqrt{2}$ and $f(0)=1$, there must be an $x$-intercept in the interval $[-1,0]$. $f$ has a critical point at $x=0$, so I choose $x_{1}=-1$ instead."
   ]
  },
  {
   "cell_type": "code",
   "execution_count": 59,
   "metadata": {
    "collapsed": false
   },
   "outputs": [
   ],
   "source": [
    "x1=-1"
   ]
  },
  {
   "cell_type": "code",
   "execution_count": 60,
   "metadata": {
    "collapsed": false
   },
   "outputs": [
   ],
   "source": [
    "x2=x1-(f(x1)/fp(x1))"
   ]
  },
  {
   "cell_type": "code",
   "execution_count": 61,
   "metadata": {
    "collapsed": false
   },
   "outputs": [
    {
     "data": {
      "text/plain": [
       "-0.832632446392313"
      ]
     },
     "execution_count": 61,
     "metadata": {
     },
     "output_type": "execute_result"
    }
   ],
   "source": [
    "n(x2)"
   ]
  },
  {
   "cell_type": "code",
   "execution_count": 62,
   "metadata": {
    "collapsed": false
   },
   "outputs": [
   ],
   "source": [
    "x3=x2-(f(x2)/fp(x2))"
   ]
  },
  {
   "cell_type": "code",
   "execution_count": 63,
   "metadata": {
    "collapsed": false
   },
   "outputs": [
    {
     "data": {
      "text/plain": [
       "-0.826476364377094"
      ]
     },
     "execution_count": 63,
     "metadata": {
     },
     "output_type": "execute_result"
    }
   ],
   "source": [
    "n(x3)"
   ]
  },
  {
   "cell_type": "code",
   "execution_count": 64,
   "metadata": {
    "collapsed": false
   },
   "outputs": [
   ],
   "source": [
    "x4=x3-(f(x3)/fp(x3))"
   ]
  },
  {
   "cell_type": "code",
   "execution_count": 65,
   "metadata": {
    "collapsed": false
   },
   "outputs": [
    {
     "data": {
      "text/plain": [
       "-0.826462326269352"
      ]
     },
     "execution_count": 65,
     "metadata": {
     },
     "output_type": "execute_result"
    }
   ],
   "source": [
    "n(x4)"
   ]
  },
  {
   "cell_type": "code",
   "execution_count": 66,
   "metadata": {
    "collapsed": false
   },
   "outputs": [
   ],
   "source": [
    "x5=x4-(f(x4)/fp(x4))"
   ]
  },
  {
   "cell_type": "code",
   "execution_count": 67,
   "metadata": {
    "collapsed": false
   },
   "outputs": [
    {
     "data": {
      "text/plain": [
       "-0.826462326195434"
      ]
     },
     "execution_count": 67,
     "metadata": {
     },
     "output_type": "execute_result"
    }
   ],
   "source": [
    "n(x5)"
   ]
  },
  {
   "cell_type": "markdown",
   "metadata": {
    "collapsed": false
   },
   "source": [
    "One solution for the equation $x^{2}\\sqrt{2-x-x^{2}}=1$ is $x\\approx{}-0.82646$."
   ]
  },
  {
   "cell_type": "markdown",
   "metadata": {
    "collapsed": false
   },
   "source": [
    "**(7d)**"
   ]
  },
  {
   "cell_type": "code",
   "execution_count": 68,
   "metadata": {
    "collapsed": false
   },
   "outputs": [
   ],
   "source": [
    "f(x)=x^2-x+1-4*exp(-x^2)*sin(x)"
   ]
  },
  {
   "cell_type": "code",
   "execution_count": 70,
   "metadata": {
    "collapsed": false
   },
   "outputs": [
   ],
   "source": [
    "fp(x)=diff(f(x),x)"
   ]
  },
  {
   "cell_type": "markdown",
   "metadata": {
    "collapsed": false
   },
   "source": [
    "$$f'(x)=8 \\, x e^{\\left(-x^{2}\\right)} \\sin\\left(x\\right) - 4 \\, \\cos\\left(x\\right) e^{\\left(-x^{2}\\right)} + 2 \\, x - 1$$"
   ]
  },
  {
   "cell_type": "markdown",
   "metadata": {
    "collapsed": false
   },
   "source": [
    "Since $f(0)=1$ and $f(1)<0$, there must be an $x$-intercept in the interval $[0,1]$. I choose $x_{1}=0$."
   ]
  },
  {
   "cell_type": "code",
   "execution_count": 76,
   "metadata": {
    "collapsed": false
   },
   "outputs": [
   ],
   "source": [
    "x1=0"
   ]
  },
  {
   "cell_type": "code",
   "execution_count": 77,
   "metadata": {
    "collapsed": false
   },
   "outputs": [
   ],
   "source": [
    "x2=x1-(f(x1)/fp(x1))"
   ]
  },
  {
   "cell_type": "code",
   "execution_count": 78,
   "metadata": {
    "collapsed": false
   },
   "outputs": [
    {
     "data": {
      "text/plain": [
       "0.200000000000000"
      ]
     },
     "execution_count": 78,
     "metadata": {
     },
     "output_type": "execute_result"
    }
   ],
   "source": [
    "n(x2)"
   ]
  },
  {
   "cell_type": "code",
   "execution_count": 79,
   "metadata": {
    "collapsed": false
   },
   "outputs": [
   ],
   "source": [
    "x3=x2-(f(x2)/fp(x2))"
   ]
  },
  {
   "cell_type": "code",
   "execution_count": 80,
   "metadata": {
    "collapsed": false
   },
   "outputs": [
    {
     "data": {
      "text/plain": [
       "0.218832730610920"
      ]
     },
     "execution_count": 80,
     "metadata": {
     },
     "output_type": "execute_result"
    }
   ],
   "source": [
    "n(x3)"
   ]
  },
  {
   "cell_type": "code",
   "execution_count": 81,
   "metadata": {
    "collapsed": false
   },
   "outputs": [
   ],
   "source": [
    "x4=x3-(f(x3)/fp(x3))"
   ]
  },
  {
   "cell_type": "code",
   "execution_count": 82,
   "metadata": {
    "collapsed": false
   },
   "outputs": [
    {
     "data": {
      "text/plain": [
       "0.219163571329239"
      ]
     },
     "execution_count": 82,
     "metadata": {
     },
     "output_type": "execute_result"
    }
   ],
   "source": [
    "n(x4)"
   ]
  },
  {
   "cell_type": "code",
   "execution_count": 83,
   "metadata": {
    "collapsed": false
   },
   "outputs": [
   ],
   "source": [
    "x5=x4-(f(x4)/fp(x4))"
   ]
  },
  {
   "cell_type": "code",
   "execution_count": 84,
   "metadata": {
    "collapsed": false
   },
   "outputs": [
    {
     "data": {
      "text/plain": [
       "0.219163677236341"
      ]
     },
     "execution_count": 84,
     "metadata": {
     },
     "output_type": "execute_result"
    }
   ],
   "source": [
    "n(x5)"
   ]
  },
  {
   "cell_type": "markdown",
   "metadata": {
    "collapsed": false
   },
   "source": [
    "One solution for the equation $4e^{-x^{2}}\\sin{}x=x^{2}-x+1$ is $x\\approx{}0.21916$."
   ]
  },
  {
   "cell_type": "markdown",
   "metadata": {
    "collapsed": false
   },
   "source": [
    "**(7e)**"
   ]
  },
  {
   "cell_type": "code",
   "execution_count": 85,
   "metadata": {
    "collapsed": false
   },
   "outputs": [
   ],
   "source": [
    "f(x)=3*sin(x^2)-2*x"
   ]
  },
  {
   "cell_type": "code",
   "execution_count": 86,
   "metadata": {
    "collapsed": false
   },
   "outputs": [
   ],
   "source": [
    "fp(x)=diff(f(x),x)"
   ]
  },
  {
   "cell_type": "markdown",
   "metadata": {
    "collapsed": false
   },
   "source": [
    "$$f'(x)=6 \\, x \\cos\\left(x^{2}\\right) - 2$$"
   ]
  },
  {
   "cell_type": "markdown",
   "metadata": {
    "collapsed": false
   },
   "source": [
    "I was lucky. I plugged in $x=0$ and there is a solution for the equation. I no longer need Newton's method."
   ]
  },
  {
   "cell_type": "markdown",
   "metadata": {
    "collapsed": false
   },
   "source": [
    "**(8)** For a fish swimming at a speed $v$ relative to the water, the energy expenditure per unit time is proportional to $v^{3}$. It is believed that migrating fish try to minimize the total energy required to swim a fixed distance. If the fish are swimming against a current $u$ ($u<v$), then the time required to swim a distance $L$ is $L/(v-u)$ and the total energy $E$ required to swim the distance is given by $$E(v)=av^{3}\\cdot\\frac{L}{v-u}$$ where $a$ is the proportionality constant. Determine the value of $v$ that minimizes $E$."
   ]
  },
  {
   "cell_type": "markdown",
   "metadata": {
    "collapsed": false
   },
   "source": [
    "Differentiate $$E'(v)=\\frac{Lav^{2}}{v-u}\\left(3-\\frac{v}{(v-u)}\\right)$$"
   ]
  },
  {
   "cell_type": "markdown",
   "metadata": {
    "collapsed": false
   },
   "source": [
    "Set the derivative to zero for the answer. **Answer:** $v$ is minimized at $v=\\frac{3}{2}u$."
   ]
  },
  {
   "cell_type": "markdown",
   "metadata": {
    "collapsed": false
   },
   "source": [
    "**(9)** A cone with height $H$ and radius $R$ is inscribed in a larger cone with height $h$ and radius $r$ so that its vertex is at the centre of the base of the larger cone. Find $R$ in terms of the dimensions of the larger cone that makes the volume of the smaller cone maximal."
   ]
  },
  {
   "cell_type": "markdown",
   "metadata": {
    "collapsed": false
   },
   "source": [
    "**Step 1:** $$V(R)=\\frac{1}{3}R^{2}\\pi{}H$$"
   ]
  },
  {
   "cell_type": "markdown",
   "metadata": {
    "collapsed": false
   },
   "source": [
    "**Step 2:** $$\\frac{h-H}{R}=\\frac{h}{r}$$ and therefore $$H=\\frac{h}{r}(r-R)$$"
   ]
  },
  {
   "cell_type": "markdown",
   "metadata": {
    "collapsed": false
   },
   "source": [
    "**Step 3:** Differentiate and set to zero $$V(R)=\\frac{1}{3}R^{2}\\pi\\frac{h}{r}(r-R)$$"
   ]
  },
  {
   "cell_type": "markdown",
   "metadata": {
    "collapsed": false
   },
   "source": [
    "$$V'(R)=\\pi{}hR\\left(\\frac{2}{3}-\\frac{R}{r}\\right)=0$$"
   ]
  },
  {
   "cell_type": "markdown",
   "metadata": {
    "collapsed": false
   },
   "source": [
    "**Answer:** There are two solutions here, $R=0$ for the minimum and $R=\\frac{2}{3}r$ for the maximum."
   ]
  },
  {
   "cell_type": "markdown",
   "metadata": {
    "collapsed": false
   },
   "source": [
    "**(10)** Find $$\\lim_{x\\rightarrow{}1}\\left(\\frac{x}{x-1}-\\frac{1}{\\ln{}x}\\right)$$"
   ]
  },
  {
   "cell_type": "markdown",
   "metadata": {
    "collapsed": false
   },
   "source": [
    "Make sure to check that you only use LHR when there is an indeterminate form."
   ]
  },
  {
   "cell_type": "markdown",
   "metadata": {
    "collapsed": false
   },
   "source": [
    "$$\\lim_{x\\rightarrow{}1}\\left(\\frac{x}{x-1}-\\frac{1}{\\ln{}x}\\right)=\\lim_{x\\rightarrow{}1}\\frac{x\\ln{}x-(x-1)}{(x-1)\\ln{}x}\\stackrel{\\mbox{LHR}}{=}\\lim_{x\\rightarrow{}1}\\frac{x\\ln{}x}{x\\ln{}x+(x-1)}=$$"
   ]
  },
  {
   "cell_type": "markdown",
   "metadata": {
    "collapsed": false
   },
   "source": [
    "$$\\left(1+\\lim_{x\\rightarrow{}1}\\frac{x-1}{x\\ln{}x}\\right)^{-1}\\stackrel{\\mbox{LHR}}{=}\\left(1+\\lim_{x\\rightarrow{}1}\\frac{1}{\\ln{}x+1}\\right)^{-1}=\\left(1+\\frac{1}{1}\\right)^{-1}=\\frac{1}{2}$$"
   ]
  },
  {
   "cell_type": "markdown",
   "metadata": {
    "collapsed": false
   },
   "source": [
    "**(11)** Of the infinitely many lines that are tangent to the curve $$y=-\\sin{}x$$ and pass through the origin, there is one that has the largest slope. Use Newton's Method to find the slope of that line."
   ]
  },
  {
   "cell_type": "markdown",
   "metadata": {
    "collapsed": false
   },
   "source": [
    "<img src=\"optsine.png\">"
   ]
  },
  {
   "cell_type": "markdown",
   "metadata": {
    "collapsed": false
   },
   "source": [
    "The slope of the tangent line is $$S(x)=-\\frac{\\sin{}x}{x}$$ Differentiate and set to zero $$S'(x)=\\frac{\\sin{}x-x\\cos{}x}{x^{2}}=0$$"
   ]
  },
  {
   "cell_type": "code",
   "execution_count": 91,
   "metadata": {
    "collapsed": false
   },
   "outputs": [
   ],
   "source": [
    "f(x)=sin(x)-x*cos(x)"
   ]
  },
  {
   "cell_type": "code",
   "execution_count": 101,
   "metadata": {
    "collapsed": false
   },
   "outputs": [
    {
     "data": {
      "text/plain": [
       "4.493409457909064"
      ]
     },
     "execution_count": 101,
     "metadata": {
     },
     "output_type": "execute_result"
    }
   ],
   "source": [
    "find_root(f,pi,2*pi)"
   ]
  },
  {
   "cell_type": "markdown",
   "metadata": {
    "collapsed": false
   },
   "source": [
    "Instead of Newton's method (which is simple enough to use here), I have used a function in SageMath to approximate the solution. **Answer:** the slope of the line is approximately $0.21723$."
   ]
  },
  {
   "cell_type": "markdown",
   "metadata": {
    "collapsed": false
   },
   "source": [
    "<img src=\"optparabola1.png\">"
   ]
  },
  {
   "cell_type": "markdown",
   "metadata": {
    "collapsed": false
   },
   "source": [
    "<img src=\"optparabola2.png\">"
   ]
  },
  {
   "cell_type": "markdown",
   "metadata": {
    "collapsed": false
   },
   "source": [
    "<img src=\"optparabola3.png\">"
   ]
  },
  {
   "cell_type": "markdown",
   "metadata": {
    "collapsed": false
   },
   "source": [
    "**(13)** Find the area of the largest rectangle that can be inscribed in a semicircle of radius $r$."
   ]
  },
  {
   "cell_type": "markdown",
   "metadata": {
    "collapsed": false
   },
   "source": [
    "**Step 1:** The function to optimize is $A(l)=l\\cdot{}w$."
   ]
  },
  {
   "cell_type": "markdown",
   "metadata": {
    "collapsed": false
   },
   "source": [
    "**Step 2:**: The side constraint $r^{2}=w^{2}+\\frac{l^{2}}{4}$ gives us $$A(l)=l\\cdot\\sqrt{r^{2}-\\frac{l^{2}}{4}}$$"
   ]
  },
  {
   "cell_type": "markdown",
   "metadata": {
    "collapsed": false
   },
   "source": [
    "**Step 3:** Differentiate and set to zero. $$A'(l)=\\sqrt{r^{2}-\\frac{l^{2}}{4}}-\\frac{l^{2}}{4\\sqrt{r^{2}-\\frac{l^{2}}{4}}}=0$$"
   ]
  },
  {
   "cell_type": "markdown",
   "metadata": {
    "collapsed": false
   },
   "source": [
    "Solve this equation for $l=\\sqrt{2}r,w=\\frac{1}{\\sqrt{2}}r$. **Answer:** The area of the largest rectangle that can be\n",
    "inscribed in a semicircle of radius $r$ is $r^{2}$."
   ]
  }
 ],
 "metadata": {
  "kernelspec": {
   "display_name": "SageMath (stable)",
   "name": "sagemath"
  },
  "language_info": {
   "codemirror_mode": {
    "name": "ipython",
    "version": 2
   },
   "file_extension": ".py",
   "mimetype": "text/x-python",
   "name": "python",
   "nbconvert_exporter": "python",
   "pygments_lexer": "ipython2",
   "version": "2.7.14"
  }
 },
 "nbformat": 4,
 "nbformat_minor": 0
}