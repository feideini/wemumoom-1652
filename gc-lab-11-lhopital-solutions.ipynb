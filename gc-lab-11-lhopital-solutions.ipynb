{
 "cells": [
  {
   "cell_type": "markdown",
   "metadata": {
    "collapsed": false
   },
   "source": [
    "**(1)** Find $$\\lim_{x\\rightarrow{}0^{+}}\\sin{}x\\ln{}x$$"
   ]
  },
  {
   "cell_type": "markdown",
   "metadata": {
    "collapsed": false
   },
   "source": [
    "Make sure to check that you only use LHR when there is an indeterminate form."
   ]
  },
  {
   "cell_type": "markdown",
   "metadata": {
    "collapsed": false
   },
   "source": [
    "$$\\lim_{x\\rightarrow{}0^{+}}\\sin{}x\\ln{}x=\\lim_{x\\rightarrow{}0^{+}}\\frac{\\ln{}x}{\\csc{}x}\\stackrel{\\mbox{LHR}}{=}\\lim_{x\\rightarrow{}0^{+}}\\frac{\\frac{1}{x}}{-\\csc{}x\\cdot{}\\cot{}x}=$$"
   ]
  },
  {
   "cell_type": "markdown",
   "metadata": {
    "collapsed": false
   },
   "source": [
    "$$\\lim_{x\\rightarrow{}0^{+}}\\frac{-\\sin^{2}x}{x\\cos{}x}=\\frac{0}{0}$$"
   ]
  },
  {
   "cell_type": "markdown",
   "metadata": {
    "collapsed": false
   },
   "source": [
    "Use LHR again for $$\\lim_{x\\rightarrow{}0^{+}}\\frac{-\\sin^{2}x}{x\\cos{}x}\\stackrel{\\mbox{LHR}}{=}\\lim_{x\\rightarrow{}0^{+}}\\frac{-2\\sin{}x\\cos{}x}{\\cos{}x-x\\sin{}x}=\\frac{0}{1-0}=0$$"
   ]
  },
  {
   "cell_type": "markdown",
   "metadata": {
    "collapsed": false
   },
   "source": [
    "**(2)** Find $$\\lim_{x\\rightarrow{}0}\\frac{e^{x}-e^{-x}-2x}{x-\\sin{}x}$$"
   ]
  },
  {
   "cell_type": "markdown",
   "metadata": {
    "collapsed": false
   },
   "source": [
    "Make sure to check that you only use LHR when there is an indeterminate form."
   ]
  },
  {
   "cell_type": "markdown",
   "metadata": {
    "collapsed": false
   },
   "source": [
    "$$\\lim_{x\\rightarrow{}0}\\frac{e^{x}-e^{-x}-2x}{x-\\sin{}x}\\stackrel{\\mbox{LHR}}{=}\\lim_{x\\rightarrow{}0}\\frac{e^{x}+e^{-x}-2}{1-\\cos{}x}\\stackrel{\\mbox{LHR}}{=}\\lim_{x\\rightarrow{}0}\\frac{e^{x}-e^{-x}}{\\sin{}x}\\stackrel{\\mbox{LHR}}{=}\\lim_{x\\rightarrow{}0}\\frac{e^{x}+e^{-x}}{\\cos{}x}=\\frac{1+1}{1}=2$$"
   ]
  },
  {
   "cell_type": "markdown",
   "metadata": {
    "collapsed": false
   },
   "source": [
    "**(3)** A cylindrical can is to be made to hold one litre of oil. Find the dimensions that will minimize the cost of the metal to manufacture the can."
   ]
  },
  {
   "cell_type": "markdown",
   "metadata": {
    "collapsed": false
   },
   "source": [
    "**Step 1:** Find a function for that which you are trying to optimize, in this case the area of the can. $$A(r)=2r^{2}\\pi+2\\pi{}rh$$"
   ]
  },
  {
   "cell_type": "markdown",
   "metadata": {
    "collapsed": false
   },
   "source": [
    "**Step 2:** Use the side constraint $$1=r^{2}\\pi{}h$$ to replace $h$ in terms of $r$ $$A(r)=2r^{2}\\pi+\\frac{2\\pi{}r}{r^{2}\\pi}=A(r)=2\\left(r^{2}\\pi+\\frac{1}{r}\\right)$$"
   ]
  },
  {
   "cell_type": "markdown",
   "metadata": {
    "collapsed": false
   },
   "source": [
    "**Step 3:** Differentiate and set to zero. $$A'(r)=2\\left(2r\\pi-\\frac{1}{r^{2}}\\right)=0$$"
   ]
  },
  {
   "cell_type": "markdown",
   "metadata": {
    "collapsed": false
   },
   "source": [
    "Solve the equation for $$r=\\sqrt[3]{\\frac{1}{2\\pi}}=0.54193$$"
   ]
  },
  {
   "cell_type": "markdown",
   "metadata": {
    "collapsed": false
   },
   "source": [
    "Finally, use the side constraint for $$h=\\frac{1}{\\left(\\frac{1}{2\\pi}\\right)^{\\frac{2}{3}}\\pi}=1.0839$$ **Answer:** The dimensions that will minimize the cost of the metal to manufacture the can are $r=0.54193$dm and $h=1.0839$dm."
   ]
  },
  {
   "cell_type": "markdown",
   "metadata": {
    "collapsed": false
   },
   "source": [
    "**(4)** A farmer has 2400ft of fencing and wants to fence off a rectangular field that borders a straight river. She needs no fence along the river. What are the dimensions of the field that has the largest area?"
   ]
  },
  {
   "cell_type": "markdown",
   "metadata": {
    "collapsed": false
   },
   "source": [
    "**Step 1:** $$A(w)=l\\cdot{}w$$"
   ]
  },
  {
   "cell_type": "markdown",
   "metadata": {
    "collapsed": false
   },
   "source": [
    "**Step 2:** $l+2w=2400$, therefore $l=2400-2w$ and $$A(w)=(2400-2w)\\cdot{}w=2400w-2w^{2}$$"
   ]
  },
  {
   "cell_type": "markdown",
   "metadata": {
    "collapsed": false
   },
   "source": [
    "**Step 3:** Differentiate and set to zero. $$A'(w)=2400-4w=0$$ **Answer:** The dimensions of the field that has the largest area are $w=600,l=1200$."
   ]
  },
  {
   "cell_type": "markdown",
   "metadata": {
    "collapsed": false
   },
   "source": [
    "**(5)** Find $$\\lim_{x\\rightarrow{}1}\\frac{1-x+\\ln{}x}{1+\\cos\\pi{}x}$$"
   ]
  },
  {
   "cell_type": "markdown",
   "metadata": {
    "collapsed": false
   },
   "source": [
    "Make sure to check that you only use LHR when there is an indeterminate form."
   ]
  },
  {
   "cell_type": "markdown",
   "metadata": {
    "collapsed": false
   },
   "source": [
    "$$\\lim_{x\\rightarrow{}1}\\frac{1-x+\\ln{}x}{1+\\cos\\pi{}x}\\stackrel{\\mbox{LHR}}{=}\\lim_{x\\rightarrow{}1}\\frac{-1+\\frac{1}{x}}{-\\pi\\sin\\pi{}x}\\stackrel{\\mbox{LHR}}{=}\\lim_{x\\rightarrow{}1}\\frac{-\\frac{1}{x^{2}}}{-\\pi^{2}\\cos\\pi{}x}=-\\frac{1}{\\pi^{2}}$$"
   ]
  },
  {
   "cell_type": "markdown",
   "metadata": {
    "collapsed": false
   },
   "source": [
    "**(6)** How close does the semi-circle $y=\\sqrt{16-x^{2}}$ come to the point $P=(1,\\sqrt{3})$?"
   ]
  }
 ],
 "metadata": {
  "kernelspec": {
   "display_name": "SageMath (stable)",
   "name": "sagemath"
  },
  "language_info": {
   "codemirror_mode": {
    "name": "ipython",
    "version": 2
   },
   "file_extension": ".py",
   "mimetype": "text/x-python",
   "name": "python",
   "nbconvert_exporter": "python",
   "pygments_lexer": "ipython2",
   "version": "2.7.14"
  }
 },
 "nbformat": 4,
 "nbformat_minor": 0
}