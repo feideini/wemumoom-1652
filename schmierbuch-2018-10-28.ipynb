{
 "cells": [
  {
   "cell_type": "code",
   "execution_count": 3,
   "metadata": {
    "collapsed": false
   },
   "outputs": [
   ],
   "source": [
    "A=matrix([[1,2,3,-2],[2,4,6,-4],[3,6,7,8],[-2,-4,8,11]])"
   ]
  },
  {
   "cell_type": "code",
   "execution_count": 4,
   "metadata": {
    "collapsed": false
   },
   "outputs": [
    {
     "data": {
      "text/plain": [
       "[ 1  2  3 -2]\n",
       "[ 2  4  6 -4]\n",
       "[ 3  6  7  8]\n",
       "[-2 -4  8 11]"
      ]
     },
     "execution_count": 4,
     "metadata": {
     },
     "output_type": "execute_result"
    }
   ],
   "source": [
    "A"
   ]
  },
  {
   "cell_type": "code",
   "execution_count": 37,
   "metadata": {
    "collapsed": false
   },
   "outputs": [
    {
     "data": {
      "text/plain": [
       "[(0, [\n",
       "  (1, -1/2, 0, 0)\n",
       "  ], 1),\n",
       " (-5.444342663304127?, [(1, 2, -2.322720288913752?, 1.738090898281437?)], 1),\n",
       " (11.154695317826131?, [(1, 2, 1.226055795278463?, -1.238263965995373?)], 1),\n",
       " (17.28964734547800?, [(1, 2, 19.97166449363529?, 23.81267306771394?)], 1)]"
      ]
     },
     "execution_count": 37,
     "metadata": {
     },
     "output_type": "execute_result"
    }
   ],
   "source": [
    "A.eigenvectors_right()"
   ]
  },
  {
   "cell_type": "code",
   "execution_count": 6,
   "metadata": {
    "collapsed": false
   },
   "outputs": [
    {
     "data": {
      "text/plain": [
       "-8.40465673576044"
      ]
     },
     "execution_count": 6,
     "metadata": {
     },
     "output_type": "execute_result"
    }
   ],
   "source": [
    "RR.random_element(-10,10)"
   ]
  },
  {
   "cell_type": "code",
   "execution_count": 21,
   "metadata": {
    "collapsed": false
   },
   "outputs": [
   ],
   "source": [
    "u1=matrix([[ZZ.random_element(-10,10),ZZ.random_element(-10,10),ZZ.random_element(-10,10),ZZ.random_element(-10,10)]]).transpose()"
   ]
  },
  {
   "cell_type": "code",
   "execution_count": 22,
   "metadata": {
    "collapsed": false
   },
   "outputs": [
    {
     "data": {
      "text/plain": [
       "[-6]\n",
       "[ 1]\n",
       "[ 3]\n",
       "[-5]"
      ]
     },
     "execution_count": 22,
     "metadata": {
     },
     "output_type": "execute_result"
    }
   ],
   "source": [
    "u1"
   ]
  },
  {
   "cell_type": "code",
   "execution_count": 23,
   "metadata": {
    "collapsed": false
   },
   "outputs": [
   ],
   "source": [
    "u2=matrix([[ZZ.random_element(-10,10),ZZ.random_element(-10,10),ZZ.random_element(-10,10),ZZ.random_element(-10,10)]]).transpose()"
   ]
  },
  {
   "cell_type": "code",
   "execution_count": 14,
   "metadata": {
    "collapsed": false
   },
   "outputs": [
    {
     "data": {
      "text/plain": [
       "(8, 8, -3, -2)"
      ]
     },
     "execution_count": 14,
     "metadata": {
     },
     "output_type": "execute_result"
    }
   ],
   "source": [
    "u2"
   ]
  },
  {
   "cell_type": "code",
   "execution_count": 24,
   "metadata": {
    "collapsed": false
   },
   "outputs": [
   ],
   "source": [
    "u3=matrix([[ZZ.random_element(-10,10),ZZ.random_element(-10,10),ZZ.random_element(-10,10),ZZ.random_element(-10,10)]]).transpose()"
   ]
  },
  {
   "cell_type": "code",
   "execution_count": 25,
   "metadata": {
    "collapsed": false
   },
   "outputs": [
   ],
   "source": [
    "u4=matrix([[ZZ.random_element(-10,10),ZZ.random_element(-10,10),ZZ.random_element(-10,10),ZZ.random_element(-10,10)]]).transpose()"
   ]
  },
  {
   "cell_type": "code",
   "execution_count": 17,
   "metadata": {
    "collapsed": false
   },
   "outputs": [
   ],
   "source": [
    "U=matrix([u1,u2,u3,u4])"
   ]
  },
  {
   "cell_type": "code",
   "execution_count": 18,
   "metadata": {
    "collapsed": false
   },
   "outputs": [
    {
     "data": {
      "text/plain": [
       "[ 3 -2  0  5]\n",
       "[ 8  8 -3 -2]\n",
       "[-8 -2  1  9]\n",
       "[-5 -1 -9 -5]"
      ]
     },
     "execution_count": 18,
     "metadata": {
     },
     "output_type": "execute_result"
    }
   ],
   "source": [
    "U"
   ]
  },
  {
   "cell_type": "code",
   "execution_count": 34,
   "metadata": {
    "collapsed": false
   },
   "outputs": [
   ],
   "source": [
    "Ahat=matrix([[(u1.transpose()*A*u1)[0,0], (u1.transpose()*A*u2)[0,0], (u1.transpose()*A*u3)[0,0], (u1.transpose()*A*u4)[0,0]],[(u2.transpose()*A*u1)[0,0], (u2.transpose()*A*u2)[0,0], (u2.transpose()*A*u3)[0,0], (u2.transpose()*A*u4)[0,0]],[(u3.transpose()*A*u1)[0,0], (u3.transpose()*A*u2)[0,0], (u3.transpose()*A*u3)[0,0], (u3.transpose()*A*u4)[0,0]],[(u4.transpose()*A*u1)[0,0], (u4.transpose()*A*u2)[0,0], (u4.transpose()*A*u3)[0,0], (u4.transpose()*A*u4)[0,0]]])"
   ]
  },
  {
   "cell_type": "code",
   "execution_count": 35,
   "metadata": {
    "collapsed": false
   },
   "outputs": [
    {
     "data": {
      "text/plain": [
       "[  -38   358  -346   371]\n",
       "[  358   698  -870   831]\n",
       "[ -346  -870  1274 -1405]\n",
       "[  371   831 -1405  1637]"
      ]
     },
     "execution_count": 35,
     "metadata": {
     },
     "output_type": "execute_result"
    }
   ],
   "source": [
    "Ahat"
   ]
  },
  {
   "cell_type": "code",
   "execution_count": 36,
   "metadata": {
    "collapsed": false
   },
   "outputs": [
    {
     "data": {
      "text/plain": [
       "0"
      ]
     },
     "execution_count": 36,
     "metadata": {
     },
     "output_type": "execute_result"
    }
   ],
   "source": [
    "det(Ahat)"
   ]
  },
  {
   "cell_type": "code",
   "execution_count": 38,
   "metadata": {
    "collapsed": false,
    "scrolled": true
   },
   "outputs": [
    {
     "data": {
      "text/plain": [
       "[(0, [\n",
       "  (1, 133/106, 349/106, 104/53)\n",
       "  ], 1),\n",
       " (-186.4645842626508?,\n",
       "  [(1, -0.4161621375418609?, -0.09382008930665501?, -0.0860924256678361?)],\n",
       "  1),\n",
       " (249.0900142338555?,\n",
       "  [(1, 2.871997066519129?, -0.1335005468069264?, -2.122038072170322?)],\n",
       "  1),\n",
       " (3508.374570028796?,\n",
       "  [(1, 2.391736215991625?, -3.558698342909370?, 3.932138485329251?)],\n",
       "  1)]"
      ]
     },
     "execution_count": 38,
     "metadata": {
     },
     "output_type": "execute_result"
    }
   ],
   "source": [
    "Ahat.eigenvectors_right()"
   ]
  },
  {
   "cell_type": "code",
   "execution_count": 40,
   "metadata": {
    "collapsed": false
   },
   "outputs": [
   ],
   "source": [
    "B=matrix([[0,1],[-2,-3]])"
   ]
  },
  {
   "cell_type": "code",
   "execution_count": 41,
   "metadata": {
    "collapsed": false
   },
   "outputs": [
    {
     "data": {
      "text/plain": [
       "[(-1, [\n",
       "  (1, -1)\n",
       "  ], 1), (-2, [\n",
       "  (1, -2)\n",
       "  ], 1)]"
      ]
     },
     "execution_count": 41,
     "metadata": {
     },
     "output_type": "execute_result"
    }
   ],
   "source": [
    "B.eigenvectors_right()"
   ]
  }
 ],
 "metadata": {
  "kernelspec": {
   "display_name": "SageMath (stable)",
   "name": "sagemath"
  },
  "language_info": {
   "codemirror_mode": {
    "name": "ipython",
    "version": 2
   },
   "file_extension": ".py",
   "mimetype": "text/x-python",
   "name": "python",
   "nbconvert_exporter": "python",
   "pygments_lexer": "ipython2",
   "version": "2.7.15"
  }
 },
 "nbformat": 4,
 "nbformat_minor": 0
}