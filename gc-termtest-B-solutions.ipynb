{
 "cells": [
  {
   "cell_type": "markdown",
   "metadata": {
    "collapsed": false
   },
   "source": [
    "**Test B Solutions (MATH 2511)**"
   ]
  },
  {
   "cell_type": "markdown",
   "metadata": {
    "collapsed": false
   },
   "source": [
    "(1) Evaluate the following limit. $$\\lim_{x\\rightarrow\\frac{\\pi}{2}}\\frac{2x-\\pi}{\\cos{}x}$$"
   ]
  },
  {
   "cell_type": "markdown",
   "metadata": {
    "collapsed": false
   },
   "source": [
    "$$\\lim_{x\\rightarrow\\frac{\\pi}{2}}\\frac{2x-\\pi}{\\cos{}x}\\stackrel{\\mbox{LHR}}{=}\\lim_{x\\rightarrow\\frac{\\pi}{2}}\\frac{2}{-\\sin{}x}=\\frac{2}{-\\sin\\frac{\\pi}{2}}=-\\frac{2}{1}=-2$$"
   ]
  },
  {
   "cell_type": "markdown",
   "metadata": {
    "collapsed": false
   },
   "source": [
    "(2) Simplify, using the definition of hyperbolic trigonometric functions,$$\\sqrt{2\\pi\\sinh\\left(\\ln\\pi\\right)+1}$$"
   ]
  },
  {
   "cell_type": "markdown",
   "metadata": {
    "collapsed": false
   },
   "source": [
    "$$\\sqrt{2\\pi\\sinh\\left(\\ln\\pi\\right)+1}=\\sqrt{2\\pi\\left(\\frac{1}{2}\\left(e^{\\ln\\pi}-e^{-\\ln\\pi}\\right)\\right)+1}=\\sqrt{\\pi\\left(\\pi-\\frac{1}{\\pi}\\right)+1}=\\sqrt{\\pi^{2}}=\\pi$$"
   ]
  },
  {
   "cell_type": "markdown",
   "metadata": {
    "collapsed": false
   },
   "source": [
    "(3) Analyze the following function (do not worry about asymptotes and whether the function is even/odd). $$f(x)=\\frac{2x-1}{2x^{2}}$$"
   ]
  },
  {
   "cell_type": "markdown",
   "metadata": {
    "collapsed": false
   },
   "source": [
    "domain: $\\{x\\in\\mathbb{R}|x\\neq{}0\\}=\\mathbb{R}\\setminus\\{0\\}$"
   ]
  },
  {
   "cell_type": "markdown",
   "metadata": {
    "collapsed": false
   },
   "source": [
    "$x$-intercepts: $\\left\\{\\frac{1}{2}\\right\\}$, the solution set of $2x-1=0$"
   ]
  },
  {
   "cell_type": "markdown",
   "metadata": {
    "collapsed": false
   },
   "source": [
    "$$f'(x)=\\frac{-x+1}{x^{3}}$$"
   ]
  },
  {
   "cell_type": "markdown",
   "metadata": {
    "collapsed": false
   },
   "source": [
    "critical points: $\\left\\{1\\right\\}$, the solution set of $-x+1=0$"
   ]
  },
  {
   "cell_type": "markdown",
   "metadata": {
    "collapsed": false
   },
   "source": [
    "$$f''(x)=\\frac{2x-3}{x^{4}}$$"
   ]
  },
  {
   "cell_type": "markdown",
   "metadata": {
    "collapsed": false
   },
   "source": [
    "inflection points: $\\left\\{\\frac{3}{2}\\right\\}$, the solution set of $2x-3=0$"
   ]
  },
  {
   "cell_type": "markdown",
   "metadata": {
    "collapsed": false
   },
   "source": [
    "the critical point is a maximum because $f''(1)=-1$\n"
   ]
  }
 ],
 "metadata": {
  "kernelspec": {
   "display_name": "SageMath (stable)",
   "name": "sagemath"
  },
  "language_info": {
   "codemirror_mode": {
    "name": "ipython",
    "version": 2
   },
   "file_extension": ".py",
   "mimetype": "text/x-python",
   "name": "python",
   "nbconvert_exporter": "python",
   "pygments_lexer": "ipython2",
   "version": "2.7.14"
  }
 },
 "nbformat": 4,
 "nbformat_minor": 0
}