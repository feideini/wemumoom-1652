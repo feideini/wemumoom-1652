{
 "cells": [
  {
   "cell_type": "markdown",
   "metadata": {
    "collapsed": false
   },
   "source": [
    "**Test B Solutions (MATH 2511)**"
   ]
  },
  {
   "cell_type": "markdown",
   "metadata": {
    "collapsed": false
   },
   "source": [
    "(1) Evaluate the following limit. $$\\lim_{x\\rightarrow\\frac{\\pi}{2}}\\frac{2x-\\pi}{\\cos{}x}$$"
   ]
  },
  {
   "cell_type": "markdown",
   "metadata": {
    "collapsed": false
   },
   "source": [
    "$$\\lim_{x\\rightarrow\\frac{\\pi}{2}}\\frac{2x-\\pi}{\\cos{}x}\\stackrel{\\mbox{LHR}}{=}\\lim_{x\\rightarrow\\frac{\\pi}{2}}\\frac{2}{-\\sin{}x}=\\frac{2}{-\\sin\\frac{\\pi}{2}}=-\\frac{2}{1}=-2$$"
   ]
  },
  {
   "cell_type": "markdown",
   "metadata": {
    "collapsed": false
   },
   "source": [
    "(2) Simplify, using the definition of hyperbolic trigonometric functions,$$\\sqrt{2\\pi\\sinh\\left(\\ln\\pi\\right)+1}$$"
   ]
  },
  {
   "cell_type": "markdown",
   "metadata": {
    "collapsed": false
   },
   "source": [
    "$$\\sqrt{2\\pi\\sinh\\left(\\ln\\pi\\right)+1}=\\sqrt{2\\pi\\left(\\frac{1}{2}\\left(e^{\\ln\\pi}-e^{-\\ln\\pi}\\right)\\right)+1}=\\sqrt{\\pi\\left(\\pi-\\frac{1}{\\pi}\\right)+1}=\\sqrt{\\pi^{2}}=\\pi$$"
   ]
  },
  {
   "cell_type": "markdown",
   "metadata": {
    "collapsed": false
   },
   "source": [
    "(3) Analyze the following function (do not worry about asymptotes and whether the function is even/odd). $$f(x)=\\frac{2x-1}{2x^{2}}$$"
   ]
  },
  {
   "cell_type": "markdown",
   "metadata": {
    "collapsed": false
   },
   "source": [
    "<img src=\"ttbana.png\">"
   ]
  },
  {
   "cell_type": "markdown",
   "metadata": {
    "collapsed": false
   },
   "source": [
    "domain: $\\{x\\in\\mathbb{R}|x\\neq{}0\\}=\\mathbb{R}\\setminus\\{0\\}$"
   ]
  },
  {
   "cell_type": "markdown",
   "metadata": {
    "collapsed": false
   },
   "source": [
    "$x$-intercepts: $\\left\\{\\frac{1}{2}\\right\\}$, the solution set of $2x-1=0$"
   ]
  },
  {
   "cell_type": "markdown",
   "metadata": {
    "collapsed": false
   },
   "source": [
    "$$f'(x)=\\frac{-x+1}{x^{3}}$$"
   ]
  },
  {
   "cell_type": "markdown",
   "metadata": {
    "collapsed": false
   },
   "source": [
    "critical points: $\\left\\{1\\right\\}$, the solution set of $-x+1=0$"
   ]
  },
  {
   "cell_type": "markdown",
   "metadata": {
    "collapsed": false
   },
   "source": [
    "$$f''(x)=\\frac{2x-3}{x^{4}}$$"
   ]
  },
  {
   "cell_type": "markdown",
   "metadata": {
    "collapsed": false
   },
   "source": [
    "inflection points: $\\left\\{\\frac{3}{2}\\right\\}$, the solution set of $2x-3=0$"
   ]
  },
  {
   "cell_type": "markdown",
   "metadata": {
    "collapsed": false
   },
   "source": [
    "the critical point is a maximum because $f''(1)=-1$\n"
   ]
  },
  {
   "cell_type": "markdown",
   "metadata": {
    "collapsed": false
   },
   "source": [
    "range: $\\{x\\in\\mathbb{R}|x\\leq\\frac{1}{2}\\}$"
   ]
  },
  {
   "cell_type": "markdown",
   "metadata": {
    "collapsed": false
   },
   "source": [
    "(4) Differentiate $$g(t)=\\ln\\left(\\sinh\\left(2t\\right)\\right)$$"
   ]
  },
  {
   "cell_type": "markdown",
   "metadata": {
    "collapsed": false
   },
   "source": [
    "$$g'(t)=2\\coth(2t)$$"
   ]
  },
  {
   "cell_type": "markdown",
   "metadata": {
    "collapsed": false
   },
   "source": [
    "(5) An open-top box is to be made by cutting small congruent squares from the corners of a 13 inch by 13 inch sheet of tin and bending up the sides. How large should the squares cut from the corners be to make the box hold as much as possible?"
   ]
  },
  {
   "cell_type": "markdown",
   "metadata": {
    "collapsed": false
   },
   "source": [
    "<img src=\"gc-termtestB-v1-01.png\">"
   ]
  },
  {
   "cell_type": "markdown",
   "metadata": {
    "collapsed": false
   },
   "source": [
    "$$V(x)=(13-2x)^{2}x$$"
   ]
  },
  {
   "cell_type": "markdown",
   "metadata": {
    "collapsed": false
   },
   "source": [
    "$$V'(x)=12x^{2}-104x+169$$"
   ]
  },
  {
   "cell_type": "code",
   "execution_count": 1,
   "metadata": {
    "collapsed": false
   },
   "outputs": [
    {
     "data": {
      "text/plain": [
       "[x == (13/6), x == (13/2)]"
      ]
     },
     "execution_count": 1,
     "metadata": {
     },
     "output_type": "execute_result"
    }
   ],
   "source": [
    "solve(12*x^2-104*x+169,x)"
   ]
  },
  {
   "cell_type": "code",
   "execution_count": 2,
   "metadata": {
    "collapsed": false
   },
   "outputs": [
    {
     "data": {
      "text/plain": [
       "2.16666666666667"
      ]
     },
     "execution_count": 2,
     "metadata": {
     },
     "output_type": "execute_result"
    }
   ],
   "source": [
    "n(13/6)"
   ]
  },
  {
   "cell_type": "markdown",
   "metadata": {
    "collapsed": false
   },
   "source": [
    "Answer: The squares cut from the corners to make the box hold as much as possible should have $x=13/6$ as their side."
   ]
  },
  {
   "cell_type": "markdown",
   "metadata": {
    "collapsed": false
   },
   "source": [
    "(6) Evaluate the following limit. $$\\lim_{x\\rightarrow\\frac{\\pi}{4}}\\frac{\\sin{}x-\\cos{}x}{x-\\frac{\\pi}{4}}$$"
   ]
  },
  {
   "cell_type": "markdown",
   "metadata": {
    "collapsed": false
   },
   "source": [
    "$$\\lim_{x\\rightarrow\\frac{\\pi}{4}}\\frac{\\sin{}x-\\cos{}x}{x-\\frac{\\pi}{4}}\\stackrel{\\mbox{LHR}}{=}\\lim_{x\\rightarrow\\frac{\\pi}{4}}\\frac{\\cos{}x+\\sin{}x}{1}=\\frac{2}{\\sqrt{2}}=\\sqrt{2}$$"
   ]
  },
  {
   "cell_type": "markdown",
   "metadata": {
    "collapsed": false
   },
   "source": [
    "(7) To calculate a planet's space coordinates, we have to solve equations like $$x=1+0.4\\sin{}x$$ Graphing the function $f(x)=x-1-0.4\\sin{}x$ suggests that the function has a root near $x=1.4$. Use one application of Newton's method to improve this estimate. That is, start with $x_{1}=1.4$ and find $x_{2}$."
   ]
  },
  {
   "cell_type": "markdown",
   "metadata": {
    "collapsed": false
   },
   "source": [
    "$$f'(x)=1+0.4\\cos{}x$$"
   ]
  },
  {
   "cell_type": "code",
   "execution_count": 5,
   "metadata": {
    "collapsed": false
   },
   "outputs": [
    {
     "data": {
      "text/plain": [
       "1.39455039360682"
      ]
     },
     "execution_count": 5,
     "metadata": {
     },
     "output_type": "execute_result"
    }
   ],
   "source": [
    "n(1.4-((1.4-1-0.4*sin(1.4))/(1+0.4*cos(1.4))))"
   ]
  },
  {
   "cell_type": "markdown",
   "metadata": {
    "collapsed": false
   },
   "source": [
    "(8) A conical tent is to have $1000$ft$^{3}$ capacity. Find its dimensions if the amount of canvas is to be a minimum. Disregard the floor. Note that the formula for the volume of a cone is $$V=\\frac{1}{3}r^{2}\\pi{}h$$ The formula for the area of the lateral surface of a cone (without the floor) is $$A=\\pi{}rs$$ where $s$ is the slant height (see diagram).\n"
   ]
  },
  {
   "cell_type": "markdown",
   "metadata": {
    "collapsed": false
   },
   "source": [
    "<img src=\"coneslantheight.png\">"
   ]
  },
  {
   "cell_type": "markdown",
   "metadata": {
    "collapsed": false
   },
   "source": [
    "**Step 1:** $V(r)=\\frac{1}{3}r^{2}\\pi{}h$"
   ]
  },
  {
   "cell_type": "markdown",
   "metadata": {
    "collapsed": false
   },
   "source": [
    "**Step 2:** $\\pi{}r\\sqrt{r^{2}+h^{2}}=1000$, therefore $$h=\\sqrt{\\frac{1000000-r^{4}\\pi^{2}}{r^{2}\\pi^{2}}}$$"
   ]
  },
  {
   "cell_type": "markdown",
   "metadata": {
    "collapsed": false
   },
   "source": [
    "**Step 3:** $$V'(r)=\\frac{1}{3}\\sqrt{1000000-r^{4}\\pi^{2}}-\\frac{4r^{4}\\pi^{2}}{6\\sqrt{1000000-r^{4}\\pi^{2}}}$$"
   ]
  },
  {
   "cell_type": "markdown",
   "metadata": {
    "collapsed": false
   },
   "source": [
    "It follows that, solving $V'(r)=0$, $$r^{4}=\\frac{2000000}{6\\pi^{2}}$$"
   ]
  },
  {
   "cell_type": "code",
   "execution_count": 12,
   "metadata": {
    "collapsed": false
   },
   "outputs": [
   ],
   "source": [
    "r=n((2000000/(6*pi^2))^.25)"
   ]
  },
  {
   "cell_type": "code",
   "execution_count": 13,
   "metadata": {
    "collapsed": false
   },
   "outputs": [
    {
     "data": {
      "text/plain": [
       "13.5564117108448"
      ]
     },
     "execution_count": 13,
     "metadata": {
     },
     "output_type": "execute_result"
    }
   ],
   "source": [
    "r"
   ]
  },
  {
   "cell_type": "code",
   "execution_count": 18,
   "metadata": {
    "collapsed": false
   },
   "outputs": [
   ],
   "source": [
    "h=n((((1000000-r^4*pi^2)/(r^2*pi^2))^.5))"
   ]
  },
  {
   "cell_type": "code",
   "execution_count": 19,
   "metadata": {
    "collapsed": false
   },
   "outputs": [
    {
     "data": {
      "text/plain": [
       "19.1716612985902"
      ]
     },
     "execution_count": 19,
     "metadata": {
     },
     "output_type": "execute_result"
    }
   ],
   "source": [
    "h"
   ]
  }
 ],
 "metadata": {
  "kernelspec": {
   "display_name": "SageMath (stable)",
   "name": "sagemath"
  },
  "language_info": {
   "codemirror_mode": {
    "name": "ipython",
    "version": 2
   },
   "file_extension": ".py",
   "mimetype": "text/x-python",
   "name": "python",
   "nbconvert_exporter": "python",
   "pygments_lexer": "ipython2",
   "version": "2.7.14"
  }
 },
 "nbformat": 4,
 "nbformat_minor": 0
}