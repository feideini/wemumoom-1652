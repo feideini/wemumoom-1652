{
 "cells": [
  {
   "cell_type": "markdown",
   "metadata": {
    "collapsed": false
   },
   "source": [
    "**Lab 1 Question 1**"
   ]
  },
  {
   "cell_type": "markdown",
   "metadata": {
    "collapsed": false
   },
   "source": [
    "Multiply the following two matrices, if possible. \n",
    "$$\n",
    "   A=\\left[\n",
    "    \\begin{array}{ccc}\n",
    "      -8 & 7 & 5 \\\\\n",
    "      -8 & 1 & 4\n",
    "    \\end{array}\\right]\\hspace{.5in}B=\\left[\n",
    "    \\begin{array}{cc}\n",
    "      1 & -8 \\\\\n",
    "      0 & 7 \\\\\n",
    "      0 & 1 \n",
    "    \\end{array}\\right]\n",
    "$$\n"
   ]
  },
  {
   "cell_type": "code",
   "execution_count": 1,
   "metadata": {
    "collapsed": false
   },
   "outputs": [
   ],
   "source": [
    "A=matrix([[-8,7,5],[-8,1,4]])"
   ]
  },
  {
   "cell_type": "code",
   "execution_count": 2,
   "metadata": {
    "collapsed": false
   },
   "outputs": [
   ],
   "source": [
    "B=matrix([[1,-8],[0,7],[0,1]])"
   ]
  },
  {
   "cell_type": "code",
   "execution_count": 3,
   "metadata": {
    "collapsed": false
   },
   "outputs": [
    {
     "data": {
      "text/plain": [
       "[ -8 118]\n",
       "[ -8  75]"
      ]
     },
     "execution_count": 3,
     "metadata": {
     },
     "output_type": "execute_result"
    }
   ],
   "source": [
    "A*B"
   ]
  },
  {
   "cell_type": "code",
   "execution_count": 4,
   "metadata": {
    "collapsed": false
   },
   "outputs": [
    {
     "data": {
      "text/plain": [
       "[ 56  -1 -27]\n",
       "[-56   7  28]\n",
       "[ -8   1   4]"
      ]
     },
     "execution_count": 4,
     "metadata": {
     },
     "output_type": "execute_result"
    }
   ],
   "source": [
    "B*A"
   ]
  },
  {
   "cell_type": "markdown",
   "metadata": {
    "collapsed": false
   },
   "source": [
    "**Lab 1 Question 2**"
   ]
  },
  {
   "cell_type": "markdown",
   "metadata": {
    "collapsed": false
   },
   "source": [
    "Find the determinant of the following matrix.\n",
    "\n",
    "$$\n",
    "    A=\\left[\n",
    "    \\begin{array}{ccc}\n",
    "      6 & 6 & -9 \\\\\n",
    "      -1 & -9 & -5 \\\\\n",
    "      1 & 2 & -4 \n",
    "    \\end{array}\\right]\n",
    "$$"
   ]
  },
  {
   "cell_type": "code",
   "execution_count": 5,
   "metadata": {
    "collapsed": false
   },
   "outputs": [
   ],
   "source": [
    "A=matrix([[6,6,-9],[-1,-9,-5],[1,2,-4]])"
   ]
  },
  {
   "cell_type": "code",
   "execution_count": 6,
   "metadata": {
    "collapsed": false
   },
   "outputs": [
    {
     "data": {
      "text/plain": [
       "159"
      ]
     },
     "execution_count": 6,
     "metadata": {
     },
     "output_type": "execute_result"
    }
   ],
   "source": [
    "det(A)"
   ]
  },
  {
   "cell_type": "markdown",
   "metadata": {
    "collapsed": false
   },
   "source": [
    "**Lab 1 Question 3**"
   ]
  },
  {
   "cell_type": "markdown",
   "metadata": {
    "collapsed": false
   },
   "source": [
    "Find the determinant of the following matrix.\n",
    "\n",
    "$$\n",
    "  D=\\left[\n",
    "    \\begin{array}{cccc}\n",
    "      -5 & -4 & -5 & -6 \\\\\n",
    "      0 & 2 & 0 & -3 \\\\\n",
    "      -6 & 5 & 3 & 8 \\\\\n",
    "      5 & 1 & -9 & 5 \\\\\n",
    "    \\end{array}\\right]\n",
    "$$"
   ]
  },
  {
   "cell_type": "code",
   "execution_count": 8,
   "metadata": {
    "collapsed": false
   },
   "outputs": [
   ],
   "source": [
    "D=matrix([[-5,-4,-5,-6],[0,2,0,-3],[-6,5,3,8],[5,1,-9,5]])"
   ]
  },
  {
   "cell_type": "code",
   "execution_count": 9,
   "metadata": {
    "collapsed": false
   },
   "outputs": [
    {
     "data": {
      "text/plain": [
       "-3691"
      ]
     },
     "execution_count": 9,
     "metadata": {
     },
     "output_type": "execute_result"
    }
   ],
   "source": [
    "det(D)"
   ]
  },
  {
   "cell_type": "markdown",
   "metadata": {
    "collapsed": false
   },
   "source": [
    "**Lab 1 Question 4**"
   ]
  },
  {
   "cell_type": "markdown",
   "metadata": {
    "collapsed": false
   },
   "source": [
    "Find the adjugate of the following matrix.\n",
    "\n",
    "$$\n",
    "  B=\\left[\n",
    "    \\begin{array}{ccc}\n",
    "      5 & -4 & -4 \\\\\n",
    "      -1 & 0 & -7 \\\\\n",
    "      7 & 5 & -2\n",
    "    \\end{array}\\right]\n",
    "$$"
   ]
  },
  {
   "cell_type": "code",
   "execution_count": 10,
   "metadata": {
    "collapsed": false
   },
   "outputs": [
   ],
   "source": [
    "B=matrix([[5,-4,-4],[-1,0,-7],[7,5,-2]])"
   ]
  },
  {
   "cell_type": "code",
   "execution_count": 12,
   "metadata": {
    "collapsed": false
   },
   "outputs": [
    {
     "data": {
      "text/plain": [
       "[ 35 -28  28]\n",
       "[-51  18  39]\n",
       "[ -5 -53  -4]"
      ]
     },
     "execution_count": 12,
     "metadata": {
     },
     "output_type": "execute_result"
    }
   ],
   "source": [
    "det(B)*~B"
   ]
  },
  {
   "cell_type": "markdown",
   "metadata": {
    "collapsed": false
   },
   "source": [
    "**Lab 1 Question 5**"
   ]
  },
  {
   "cell_type": "markdown",
   "metadata": {
    "collapsed": false
   },
   "source": [
    "Find the inverse of the following matrix.\n",
    "\n",
    "$$\n",
    "  C=\\left[\n",
    "    \\begin{array}{ccc}\n",
    "      -9 & 8 & 2 \\\\\n",
    "      -2 & -5 & -4 \\\\\n",
    "      7 & 5 & 5 \\\\\n",
    "    \\end{array}\\right]\n",
    "$$"
   ]
  },
  {
   "cell_type": "code",
   "execution_count": 13,
   "metadata": {
    "collapsed": false
   },
   "outputs": [
   ],
   "source": [
    "C=matrix([[-9,8,2],[-2,-5,-4],[7,5,5]])"
   ]
  },
  {
   "cell_type": "code",
   "execution_count": 14,
   "metadata": {
    "collapsed": false
   },
   "outputs": [
    {
     "data": {
      "text/plain": [
       "[   5/49   30/49   22/49]\n",
       "[  18/49   59/49   40/49]\n",
       "[ -25/49 -101/49  -61/49]"
      ]
     },
     "execution_count": 14,
     "metadata": {
     },
     "output_type": "execute_result"
    }
   ],
   "source": [
    "~C"
   ]
  },
  {
   "cell_type": "markdown",
   "metadata": {
    "collapsed": false
   },
   "source": [
    "**Lab 1 Question 6**"
   ]
  },
  {
   "cell_type": "markdown",
   "metadata": {
    "collapsed": false
   },
   "source": [
    "You receive a coded message. You know that each letter of\n",
    "the original message was replaced with a one- or two-digit number\n",
    "corresponding to its placement in the English alphabet, so &quot;E&quot; is\n",
    "represented by &quot;5&quot; and &quot;W&quot; by &quot;23&quot;; spaces in the message are\n",
    "indicated by zeroes. You also know that the message was transformed\n",
    "(encoded) by multiplying the message by the following\n",
    "matrix:\n",
    "\n",
    "$$\n",
    "  \\left[\n",
    "    \\begin{array}{ccc}\n",
    "    1 & 2 & 3 \\\\\n",
    "    0 & 1 & 4 \\\\\n",
    "    5 & 6 & 0 \n",
    "  \\end{array}\\right]\n",
    "$$\n",
    "\n",
    "Translate the coded message:\n",
    "\n",
    "$$\n",
    "  \\left[\n",
    "    \\begin{array}{cccccc}\n",
    "    108 & 8 & 26 & 95 & 69 & 3 \\\\\n",
    "    79 & 0 & 13 & 95 & 76 & 1 \\\\\n",
    "    238 & 40 & 79 & 114 & 60 & 11\n",
    "  \\end{array}\\right]\n",
    "$$\n"
   ]
  },
  {
   "cell_type": "code",
   "execution_count": 15,
   "metadata": {
    "collapsed": false
   },
   "outputs": [
   ],
   "source": [
    "A=matrix([[1,2,3],[0,1,4],[5,6,0]])"
   ]
  },
  {
   "cell_type": "code",
   "execution_count": 16,
   "metadata": {
    "collapsed": false
   },
   "outputs": [
   ],
   "source": [
    "M=matrix([[108,8,26,95,69,3],[79,0,13,95,76,1],[238,40,79,114,60,11]])"
   ]
  },
  {
   "cell_type": "code",
   "execution_count": 17,
   "metadata": {
    "collapsed": false
   },
   "outputs": [
    {
     "data": {
      "text/plain": [
       "[20  8  5  0 12  1]\n",
       "[23  0  9 19  0  1]\n",
       "[14  0  1 19 19  0]"
      ]
     },
     "execution_count": 17,
     "metadata": {
     },
     "output_type": "execute_result"
    }
   ],
   "source": [
    "~A*M"
   ]
  },
  {
   "cell_type": "markdown",
   "metadata": {
    "collapsed": false
   },
   "source": [
    "**Lab 2 Question 1**"
   ]
  },
  {
   "cell_type": "markdown",
   "metadata": {
    "collapsed": false
   },
   "source": [
    "A triangle has vertices $(1,2),(3,-4),(-2,3)$. Find the\n",
    "area of the triangle."
   ]
  },
  {
   "cell_type": "code",
   "execution_count": 18,
   "metadata": {
    "collapsed": false
   },
   "outputs": [
   ],
   "source": [
    "T=matrix([[2,-6],[-3,1]])"
   ]
  },
  {
   "cell_type": "code",
   "execution_count": 20,
   "metadata": {
    "collapsed": false
   },
   "outputs": [
    {
     "data": {
      "text/plain": [
       "8"
      ]
     },
     "execution_count": 20,
     "metadata": {
     },
     "output_type": "execute_result"
    }
   ],
   "source": [
    "abs((1/2)*det(T))"
   ]
  },
  {
   "cell_type": "markdown",
   "metadata": {
    "collapsed": false
   },
   "source": [
    "**Lab 2 Question 2**"
   ]
  },
  {
   "cell_type": "markdown",
   "metadata": {
    "collapsed": false
   },
   "source": [
    "The currents running through an electrical system are given\n",
    "by the following system of equations. The three currents\n",
    "$I_{1},I_{2},I_{3}$ are measured in amps. Solve the system to find the\n",
    "currents in this circuit. (Use elementary row operations to find the\n",
    "inverse matrix.)\n",
    "$$\n",
    "    \\begin{array}{clclclc}\n",
    "    I_{1} & + & 2I_{2} & - & I_{3} & = & 0.425 \\\\\n",
    "    3I_{1} & - & I_{2} & + & 2I_{3} & = & 2.225 \\\\\n",
    "    5I_{1} & + & I_{2} & + & 2I_{3} & = & 3.775\n",
    "    \\end{array}\n",
    "$$"
   ]
  },
  {
   "cell_type": "code",
   "execution_count": 36,
   "metadata": {
    "collapsed": false
   },
   "outputs": [
   ],
   "source": [
    "A=matrix([[1,2,-1],[3,-1,2],[5,1,2]])"
   ]
  },
  {
   "cell_type": "code",
   "execution_count": 24,
   "metadata": {
    "collapsed": false
   },
   "outputs": [
   ],
   "source": [
    "b=matrix([[0.425],[2.225],[3.775]])"
   ]
  },
  {
   "cell_type": "code",
   "execution_count": 27,
   "metadata": {
    "collapsed": false
   },
   "outputs": [
   ],
   "source": [
    "x=~A*b"
   ]
  },
  {
   "cell_type": "code",
   "execution_count": 29,
   "metadata": {
    "collapsed": false
   },
   "outputs": [
    {
     "data": {
      "text/plain": [
       "[0.375000000000000]\n",
       "[0.399999999999999]\n",
       "[0.750000000000000]"
      ]
     },
     "execution_count": 29,
     "metadata": {
     },
     "output_type": "execute_result"
    }
   ],
   "source": [
    "x"
   ]
  },
  {
   "cell_type": "markdown",
   "metadata": {
    "collapsed": false
   },
   "source": [
    "$I_{1}=0.375,I_{2}=0.4,I_{3}=0.75$"
   ]
  },
  {
   "cell_type": "markdown",
   "metadata": {
    "collapsed": false
   },
   "source": [
    "**Lab 2 Question 3**"
   ]
  },
  {
   "cell_type": "markdown",
   "metadata": {
    "collapsed": false
   },
   "source": [
    "Find the equation of the parabola $y=ax^{2}+bx+c$ that\n",
    "  passes through the following three points: $(-2,40),(1,7),(3,15)$.\n",
    "  (Use the determinant/adjugate method to find the inverse matrix.)"
   ]
  },
  {
   "cell_type": "code",
   "execution_count": 1,
   "metadata": {
    "collapsed": false
   },
   "outputs": [
   ],
   "source": [
    "P=matrix([[4,-2,1],[1,1,1],[9,3,1]])"
   ]
  },
  {
   "cell_type": "code",
   "execution_count": 2,
   "metadata": {
    "collapsed": false
   },
   "outputs": [
   ],
   "source": [
    "y=matrix([[40],[7],[15]])"
   ]
  },
  {
   "cell_type": "code",
   "execution_count": 3,
   "metadata": {
    "collapsed": false
   },
   "outputs": [
   ],
   "source": [
    "d=~P*y"
   ]
  },
  {
   "cell_type": "code",
   "execution_count": 4,
   "metadata": {
    "collapsed": false
   },
   "outputs": [
    {
     "data": {
      "text/plain": [
       "[ 3]\n",
       "[-8]\n",
       "[12]"
      ]
     },
     "execution_count": 4,
     "metadata": {
     },
     "output_type": "execute_result"
    }
   ],
   "source": [
    "d"
   ]
  },
  {
   "cell_type": "markdown",
   "metadata": {
    "collapsed": false
   },
   "source": [
    "$y=3x^{2}-8x+12$"
   ]
  },
  {
   "cell_type": "markdown",
   "metadata": {
    "collapsed": false
   },
   "source": [
    "**Lab 2 Question 4**"
   ]
  },
  {
   "cell_type": "markdown",
   "metadata": {
    "collapsed": false
   },
   "source": [
    "The Arcadium arcade in Lynchburg, Tennessee uses 3\n",
    "  different colored tokens for their game machines. For \\$20 you can\n",
    "  purchase any of the following mixtures of tokens: 14 gold, 20\n",
    "  silver, and 24 bronze; OR, 20 gold, 15 silver, and 19 bronze; OR, 30\n",
    "  gold, 5 silver, and 13 bronze. What is the monetary value of the\n",
    "  bronze token? (Use Cramer's Rule.)"
   ]
  },
  {
   "cell_type": "code",
   "execution_count": 43,
   "metadata": {
    "collapsed": false
   },
   "outputs": [
   ],
   "source": [
    "L=matrix([[14,20,24],[20,15,19],[30,5,13]])"
   ]
  },
  {
   "cell_type": "code",
   "execution_count": 44,
   "metadata": {
    "collapsed": false
   },
   "outputs": [
   ],
   "source": [
    "d=matrix([[20,20,20]])"
   ]
  },
  {
   "cell_type": "code",
   "execution_count": 45,
   "metadata": {
    "collapsed": false
   },
   "outputs": [
    {
     "data": {
      "text/plain": [
       "[ 1/2]\n",
       "[7/20]\n",
       "[ 1/4]"
      ]
     },
     "execution_count": 45,
     "metadata": {
     },
     "output_type": "execute_result"
    }
   ],
   "source": [
    "~L*d.transpose()"
   ]
  },
  {
   "cell_type": "markdown",
   "metadata": {
    "collapsed": false
   },
   "source": [
    "The gold token is 50 cents; the silver token is 35 cents; the bronze token is 25 cents."
   ]
  },
  {
   "cell_type": "markdown",
   "metadata": {
    "collapsed": false
   },
   "source": [
    "**Lab 2 Question 5**"
   ]
  },
  {
   "cell_type": "markdown",
   "metadata": {
    "collapsed": false
   },
   "source": [
    "In the position function for vertical height\n",
    "$$\n",
    "    s(t)=\\frac{1}{2}at^{2}+v_{0}t+s_{0}\n",
    "$$\n",
    "  $s(t)$ represents height in meters and $t$ represents time in\n",
    "  seconds.\n",
    "\n",
    "  * Find the position function for a volleyball served at an\n",
    "    initial height of one meter, with height of 6.275 meters 0.5\n",
    "    seconds after serve, and height of 9.1 meters one second after\n",
    "    serve.\n",
    "  * How long until the ball hits the ground on the other side of\n",
    "    the net if everyone on that team completely misses it?\n"
   ]
  },
  {
   "cell_type": "code",
   "execution_count": 46,
   "metadata": {
    "collapsed": false
   },
   "outputs": [
   ],
   "source": [
    "V=matrix([[0.125,0.5,1],[0.5,1,1],[0,0,1]])"
   ]
  },
  {
   "cell_type": "code",
   "execution_count": 47,
   "metadata": {
    "collapsed": false
   },
   "outputs": [
   ],
   "source": [
    "h=matrix([[6.275,9.1,1]])"
   ]
  },
  {
   "cell_type": "code",
   "execution_count": 48,
   "metadata": {
    "collapsed": false
   },
   "outputs": [
    {
     "data": {
      "text/plain": [
       "[-9.80000000000000]\n",
       "[ 13.0000000000000]\n",
       "[ 1.00000000000000]"
      ]
     },
     "execution_count": 48,
     "metadata": {
     },
     "output_type": "execute_result"
    }
   ],
   "source": [
    "~V*h.transpose()"
   ]
  },
  {
   "cell_type": "code",
   "execution_count": 50,
   "metadata": {
    "collapsed": false
   },
   "outputs": [
   ],
   "source": [
    "t=var('t')"
   ]
  },
  {
   "cell_type": "code",
   "execution_count": 51,
   "metadata": {
    "collapsed": false
   },
   "outputs": [
    {
     "data": {
      "text/plain": [
       "[t == -1/49*sqrt(4715) + 65/49, t == 1/49*sqrt(4715) + 65/49]"
      ]
     },
     "execution_count": 51,
     "metadata": {
     },
     "output_type": "execute_result"
    }
   ],
   "source": [
    "solve(-4.9*t^2+13*t+1,t)"
   ]
  },
  {
   "cell_type": "code",
   "execution_count": 52,
   "metadata": {
    "collapsed": false
   },
   "outputs": [
    {
     "data": {
      "text/plain": [
       "2.72787464490636"
      ]
     },
     "execution_count": 52,
     "metadata": {
     },
     "output_type": "execute_result"
    }
   ],
   "source": [
    "n(1/49*sqrt(4715) + 65/49)"
   ]
  },
  {
   "cell_type": "markdown",
   "metadata": {
    "collapsed": false
   },
   "source": [
    "The position function is $s(t)=-4.9t^{2}+13t+1$. It will take 2.73 seconds until the ball hits the ground on the other side of the net if everyone on that team completely misses it."
   ]
  },
  {
   "cell_type": "markdown",
   "metadata": {
    "collapsed": false
   },
   "source": [
    "**Lab 2 Question 6**"
   ]
  },
  {
   "cell_type": "markdown",
   "metadata": {
    "collapsed": false
   },
   "source": [
    "Last Tuesday, Regal Cinemas sold a total of 8500 movie\n",
    "  tickets. Proceeds totaled \\$64,600. Tickets can be bought in one of\n",
    "  3 ways: a matinee admission costs \\$5, student admission is \\$6 all\n",
    "  day, and regular admissions are \\$8.50. How many of each type of\n",
    "  ticket was sold if twice as many student tickets were sold as\n",
    "  matinee tickets? (Use technology to solve the system of linear equations.)"
   ]
  },
  {
   "cell_type": "code",
   "execution_count": 53,
   "metadata": {
    "collapsed": false
   },
   "outputs": [
   ],
   "source": [
    "R=matrix([[1,1,1],[5,6,8.5],[2,-1,0]])"
   ]
  },
  {
   "cell_type": "code",
   "execution_count": 54,
   "metadata": {
    "collapsed": false
   },
   "outputs": [
   ],
   "source": [
    "c=matrix([[8500,64600,0]])"
   ]
  },
  {
   "cell_type": "code",
   "execution_count": 55,
   "metadata": {
    "collapsed": false
   },
   "outputs": [
    {
     "data": {
      "text/plain": [
       "[899.999999999998]\n",
       "[1800.00000000001]\n",
       "[5800.00000000000]"
      ]
     },
     "execution_count": 55,
     "metadata": {
     },
     "output_type": "execute_result"
    }
   ],
   "source": [
    "~R*c.transpose()"
   ]
  },
  {
   "cell_type": "markdown",
   "metadata": {
    "collapsed": false
   },
   "source": [
    "The following were sold: 900 matinee tickets, 1800 student tickets, 5800 regular tickets."
   ]
  },
  {
   "cell_type": "markdown",
   "metadata": {
    "collapsed": false
   },
   "source": [
    "**Lab 3 Question 1**"
   ]
  },
  {
   "cell_type": "markdown",
   "metadata": {
    "collapsed": false
   },
   "source": [
    "Find the equation of the quadratic\n",
    "$$\n",
    "    y=ax^{2}+bx+c\n",
    "$$\n",
    "  which passes through $(0,0),(1,2),(-1,3)$."
   ]
  },
  {
   "cell_type": "code",
   "execution_count": 56,
   "metadata": {
    "collapsed": false
   },
   "outputs": [
   ],
   "source": [
    "A=matrix([[0,0,1],[1,1,1],[1,-1,1]])"
   ]
  },
  {
   "cell_type": "code",
   "execution_count": 57,
   "metadata": {
    "collapsed": false
   },
   "outputs": [
   ],
   "source": [
    "b=matrix([[0,2,3]])"
   ]
  },
  {
   "cell_type": "code",
   "execution_count": 58,
   "metadata": {
    "collapsed": false
   },
   "outputs": [
    {
     "data": {
      "text/plain": [
       "[ 5/2]\n",
       "[-1/2]\n",
       "[   0]"
      ]
     },
     "execution_count": 58,
     "metadata": {
     },
     "output_type": "execute_result"
    }
   ],
   "source": [
    "~A*b.transpose()"
   ]
  },
  {
   "cell_type": "markdown",
   "metadata": {
    "collapsed": false
   },
   "source": [
    "The equation of the quadratic is $y=2.5x^{2}-0.5x$."
   ]
  },
  {
   "cell_type": "markdown",
   "metadata": {
    "collapsed": false
   },
   "source": [
    "**Lab 3 Question 2**"
   ]
  },
  {
   "cell_type": "markdown",
   "metadata": {
    "collapsed": false
   },
   "source": [
    "Find the determinant for the following Hermitian matrix.\n",
    "  What do you notice?\n",
    " $$\n",
    "    \\left[\n",
    "      \\begin{array}{ccc}\n",
    "        4 & 3-2i & -3i \\\\\n",
    "        3+2i & 1 & -5+2i \\\\\n",
    "        3i & -5-2i & 2\n",
    "      \\end{array}\\right]\n",
    " $$"
   ]
  },
  {
   "cell_type": "code",
   "execution_count": 59,
   "metadata": {
    "collapsed": false
   },
   "outputs": [
   ],
   "source": [
    "H=matrix([[4,3-2*i,-3*i],[3+2*i,1,-5+2*i],[3*i,-5-2*i,2]])"
   ]
  },
  {
   "cell_type": "code",
   "execution_count": 60,
   "metadata": {
    "collapsed": false
   },
   "outputs": [
    {
     "data": {
      "text/plain": [
       "-239"
      ]
     },
     "execution_count": 60,
     "metadata": {
     },
     "output_type": "execute_result"
    }
   ],
   "source": [
    "H.determinant()"
   ]
  },
  {
   "cell_type": "markdown",
   "metadata": {
    "collapsed": false
   },
   "source": [
    "**Lab 3 Question 3**"
   ]
  },
  {
   "cell_type": "markdown",
   "metadata": {
    "collapsed": false
   },
   "source": [
    "Solve the following systems of linear equations.\n",
    "$$\n",
    "    \\begin{array}{ccccccc}\n",
    "      3x&-&4y&+&7z&=&-23 \\\\\n",
    "      5x&-&10y&+&11z&=&-47 \\\\\n",
    "      5x&&&-&z&=&7 \\\\\n",
    "      x&-&3y&+&2z&=&-12\n",
    "    \\end{array}\n",
    "$$\n",
    "<hr>\n",
    "$$\n",
    "    \\begin{array}{ccccccc}\n",
    "      2u&+&v&-&2w&=&4 \\\\\n",
    "      2u&+&4v&-&3w&=&9 \\\\\n",
    "      4u&+&5v&-&5w&=&-11\n",
    "    \\end{array}\n",
    "$$"
   ]
  },
  {
   "cell_type": "code",
   "execution_count": 61,
   "metadata": {
    "collapsed": false
   },
   "outputs": [
   ],
   "source": [
    "B=matrix([[3,-4,7,-23],[5,-10,11,-47],[5,0,-1,7],[1,-3,2,-12]])"
   ]
  },
  {
   "cell_type": "code",
   "execution_count": 62,
   "metadata": {
    "collapsed": false
   },
   "outputs": [
    {
     "data": {
      "text/plain": [
       "[  1   2   3   1]\n",
       "[  0   5   1  13]\n",
       "[  0   0  14 -28]\n",
       "[  0   0   0   0]"
      ]
     },
     "execution_count": 62,
     "metadata": {
     },
     "output_type": "execute_result"
    }
   ],
   "source": [
    "B.echelon_form()"
   ]
  },
  {
   "cell_type": "markdown",
   "metadata": {
    "collapsed": false
   },
   "source": [
    "$S=\\{(x,y,z)\\in\\mathbb{R}^{3}|x=1,y=3,z=-2\\}$"
   ]
  },
  {
   "cell_type": "code",
   "execution_count": 63,
   "metadata": {
    "collapsed": false
   },
   "outputs": [
   ],
   "source": [
    "C=matrix([[2,1,-2,4],[2,4,-3,9],[4,5,-5,-11]])"
   ]
  },
  {
   "cell_type": "code",
   "execution_count": 64,
   "metadata": {
    "collapsed": false
   },
   "outputs": [
    {
     "data": {
      "text/plain": [
       "[ 2  1 -2  4]\n",
       "[ 0  3 -1  5]\n",
       "[ 0  0  0 24]"
      ]
     },
     "execution_count": 64,
     "metadata": {
     },
     "output_type": "execute_result"
    }
   ],
   "source": [
    "C.echelon_form()"
   ]
  },
  {
   "cell_type": "markdown",
   "metadata": {
    "collapsed": false
   },
   "source": [
    "$S=\\{\\}$"
   ]
  },
  {
   "cell_type": "markdown",
   "metadata": {
    "collapsed": false
   },
   "source": [
    "**Lab 3 Question 4**"
   ]
  },
  {
   "cell_type": "markdown",
   "metadata": {
    "collapsed": false
   },
   "source": [
    "Represent the following complex numbers in polar form\n",
    "  $r(\\cos\\theta+i\\sin\\theta)$.\n",
    "$$\n",
    "    3+4i\n",
    "$$\n",
    "<hr>\n",
    "$$\n",
    "    -1.04-1.56i\n",
    "$$"
   ]
  },
  {
   "cell_type": "code",
   "execution_count": 65,
   "metadata": {
    "collapsed": false
   },
   "outputs": [
   ],
   "source": [
    "c=3+4*i"
   ]
  },
  {
   "cell_type": "code",
   "execution_count": 66,
   "metadata": {
    "collapsed": false
   },
   "outputs": [
    {
     "data": {
      "text/plain": [
       "5"
      ]
     },
     "execution_count": 66,
     "metadata": {
     },
     "output_type": "execute_result"
    }
   ],
   "source": [
    "abs(c)"
   ]
  },
  {
   "cell_type": "code",
   "execution_count": 68,
   "metadata": {
    "collapsed": false
   },
   "outputs": [
    {
     "data": {
      "text/plain": [
       "53.1301023541560"
      ]
     },
     "execution_count": 68,
     "metadata": {
     },
     "output_type": "execute_result"
    }
   ],
   "source": [
    "n(arg(c)*180/pi)"
   ]
  },
  {
   "cell_type": "markdown",
   "metadata": {
    "collapsed": false
   },
   "source": [
    "$3+4i\\approx{}5\\cdot(\\cos(53.13^{\\circ})+i\\cdot\\sin(53.13^{\\circ}))$"
   ]
  },
  {
   "cell_type": "code",
   "execution_count": 69,
   "metadata": {
    "collapsed": false
   },
   "outputs": [
   ],
   "source": [
    "d=-1.04-1.56*i"
   ]
  },
  {
   "cell_type": "code",
   "execution_count": 70,
   "metadata": {
    "collapsed": false
   },
   "outputs": [
    {
     "data": {
      "text/plain": [
       "1.87488666324127"
      ]
     },
     "execution_count": 70,
     "metadata": {
     },
     "output_type": "execute_result"
    }
   ],
   "source": [
    "abs(d)"
   ]
  },
  {
   "cell_type": "code",
   "execution_count": 72,
   "metadata": {
    "collapsed": false
   },
   "outputs": [
    {
     "data": {
      "text/plain": [
       "236.309932474020"
      ]
     },
     "execution_count": 72,
     "metadata": {
     },
     "output_type": "execute_result"
    }
   ],
   "source": [
    "n(arg(d)*180/pi+360)"
   ]
  },
  {
   "cell_type": "markdown",
   "metadata": {
    "collapsed": false
   },
   "source": [
    "$-1.04-1.56i\\approx{}1.8749\\cdot(\\cos(236.31^{\\circ})+i\\cdot\\sin(236.31^{\\circ}))$"
   ]
  },
  {
   "cell_type": "markdown",
   "metadata": {
    "collapsed": false
   },
   "source": [
    "**Lab 3 Question 5**"
   ]
  },
  {
   "cell_type": "markdown",
   "metadata": {
    "collapsed": false
   },
   "source": [
    "Solve the following problems in electrical engineering.\n",
    "  \n",
    "  * The impedance $Z$ (in $\\Omega$) in an alternating-current circuit is given by $Z=3560/-32.4^{\\circ}$. Express this in rectangular form.\n",
    "  * The current in a microprocessor circuit is represented by $3.75/15.0^{\\circ}\\mu$A. Write this in rectangular form.\n",
    "  * The voltage of a generator is represented by $2.84-1.06i$kV. Write this voltage in polar form.\n",
    "  "
   ]
  },
  {
   "cell_type": "code",
   "execution_count": 83,
   "metadata": {
    "collapsed": false
   },
   "outputs": [
   ],
   "source": [
    "A=matrix([[n(real_part(3560*(cos(-32.4*pi/180)+i*sin(-32.4*pi/180))))],[n(imag_part(3560*(cos(-32.4*pi/180)+i*sin(-32.4*pi/180))))]])"
   ]
  },
  {
   "cell_type": "code",
   "execution_count": 84,
   "metadata": {
    "collapsed": false
   },
   "outputs": [
    {
     "data": {
      "text/plain": [
       "[ 3005.80741478717]\n",
       "[-1907.54339012523]"
      ]
     },
     "execution_count": 84,
     "metadata": {
     },
     "output_type": "execute_result"
    }
   ],
   "source": [
    "A"
   ]
  },
  {
   "cell_type": "markdown",
   "metadata": {
    "collapsed": false
   },
   "source": [
    "$Z\\approx{}3005.81-1907.54i$"
   ]
  },
  {
   "cell_type": "code",
   "execution_count": 85,
   "metadata": {
    "collapsed": false
   },
   "outputs": [
   ],
   "source": [
    "B=matrix([[n(real_part(3.75*(cos(15*pi/180)+i*sin(15*pi/180))))],[n(imag_part(3.75*(cos(15*pi/180)+i*sin(15*pi/180))))]])"
   ]
  },
  {
   "cell_type": "code",
   "execution_count": 86,
   "metadata": {
    "collapsed": false
   },
   "outputs": [
    {
     "data": {
      "text/plain": [
       "[ 3.62222184858401]\n",
       "[0.970571419134453]"
      ]
     },
     "execution_count": 86,
     "metadata": {
     },
     "output_type": "execute_result"
    }
   ],
   "source": [
    "B"
   ]
  },
  {
   "cell_type": "markdown",
   "metadata": {
    "collapsed": false
   },
   "source": [
    "The current in a microprocessor circuit is approximately represented by $3.62+0.9706i$."
   ]
  },
  {
   "cell_type": "code",
   "execution_count": 93,
   "metadata": {
    "collapsed": false
   },
   "outputs": [
   ],
   "source": [
    "C=matrix([[abs(2.84-1.06*i)],[n(arg(2.84-1.06*i)*180/pi+360)]])"
   ]
  },
  {
   "cell_type": "code",
   "execution_count": 94,
   "metadata": {
    "collapsed": false
   },
   "outputs": [
    {
     "data": {
      "text/plain": [
       "[3.03136932754820]\n",
       "[339.532442400431]"
      ]
     },
     "execution_count": 94,
     "metadata": {
     },
     "output_type": "execute_result"
    }
   ],
   "source": [
    "C"
   ]
  },
  {
   "cell_type": "markdown",
   "metadata": {
    "collapsed": false
   },
   "source": [
    "The voltage of a generator is approximately $3.031\\cdot(\\cos(339.53^{\\circ})+\\sin(339.53^{\\circ}))$."
   ]
  },
  {
   "cell_type": "markdown",
   "metadata": {
    "collapsed": false
   },
   "source": [
    "**Lab 3 Question 6**"
   ]
  },
  {
   "cell_type": "markdown",
   "metadata": {
    "collapsed": false
   },
   "source": [
    "Use complex arithmetic to provide the following in\n",
    "  rectangular form. \n",
    "$$\n",
    "    (8i-5)(7+4i)\n",
    "$$\n",
    "<hr>\n",
    "$$\n",
    "    (\\sqrt{-18}\\sqrt{-4})\\cdot{}3i\n",
    "$$\n",
    "<hr>\n",
    "$$\n",
    "(1+i)(1-i)^{2}\n",
    "  $$\n",
    "<hr>\n",
    "  $$\n",
    "        \\frac{0.25}{3-\\sqrt{-1}}\n",
    "  $$\n",
    "<hr>\n",
    " $$\n",
    "    \\frac{6+5i}{3-4i}\n",
    "  $$\n",
    "<hr>\n",
    "  $$\n",
    "    \\frac{(2-i^{3})^{4}}{(i^{8}-i^{6})^{3}}+i\n",
    "  $$"
   ]
  },
  {
   "cell_type": "code",
   "execution_count": 5,
   "metadata": {
    "collapsed": false
   },
   "outputs": [
   ],
   "source": [
    "z2=(I*sqrt(18)*I*sqrt(4))*3*I"
   ]
  },
  {
   "cell_type": "code",
   "execution_count": 6,
   "metadata": {
    "collapsed": false
   },
   "outputs": [
    {
     "data": {
      "text/plain": [
       "0"
      ]
     },
     "execution_count": 6,
     "metadata": {
     },
     "output_type": "execute_result"
    }
   ],
   "source": [
    "real_part(z2)"
   ]
  },
  {
   "cell_type": "code",
   "execution_count": 7,
   "metadata": {
    "collapsed": false
   },
   "outputs": [
    {
     "data": {
      "text/plain": [
       "-18*sqrt(2)"
      ]
     },
     "execution_count": 7,
     "metadata": {
     },
     "output_type": "execute_result"
    }
   ],
   "source": [
    "imag_part(z2)"
   ]
  },
  {
   "cell_type": "code",
   "execution_count": 8,
   "metadata": {
    "collapsed": false
   },
   "outputs": [
    {
     "data": {
      "text/plain": [
       "25.4558441227157"
      ]
     },
     "execution_count": 8,
     "metadata": {
     },
     "output_type": "execute_result"
    }
   ],
   "source": [
    "n(18*sqrt(2))"
   ]
  },
  {
   "cell_type": "code",
   "execution_count": 9,
   "metadata": {
    "collapsed": false
   },
   "outputs": [
   ],
   "source": [
    "z6=((2-I^3)^4/(I^8-I^6)^3)+I"
   ]
  },
  {
   "cell_type": "code",
   "execution_count": 10,
   "metadata": {
    "collapsed": false
   },
   "outputs": [
    {
     "data": {
      "text/plain": [
       "-7/8"
      ]
     },
     "execution_count": 10,
     "metadata": {
     },
     "output_type": "execute_result"
    }
   ],
   "source": [
    "real_part(z6)"
   ]
  },
  {
   "cell_type": "code",
   "execution_count": 11,
   "metadata": {
    "collapsed": false
   },
   "outputs": [
    {
     "data": {
      "text/plain": [
       "4"
      ]
     },
     "execution_count": 11,
     "metadata": {
     },
     "output_type": "execute_result"
    }
   ],
   "source": [
    "imag_part(z6)"
   ]
  },
  {
   "cell_type": "markdown",
   "metadata": {
    "collapsed": false
   },
   "source": [
    "The answers are $-67+36i$; $-18\\sqrt{2}i$; $2-2i$; $\\frac{3}{40}+\\frac{i}{40}$; $-\\frac{2}{25}+\\frac{39}{25}i$, $-\\frac{7}{8}+4i$."
   ]
  },
  {
   "cell_type": "markdown",
   "metadata": {
    "collapsed": false
   },
   "source": [
    "**Lab 4 Question 1**"
   ]
  },
  {
   "cell_type": "markdown",
   "metadata": {
    "collapsed": false
   },
   "source": [
    "Solve the following equation for $x$ and $y$.\n",
    "$$\n",
    "(x+y\\cdot{}i)(7\\cdot{}i-4)=i\\cdot{}(x-5)  \n",
    "$$"
   ]
  },
  {
   "cell_type": "markdown",
   "metadata": {
    "collapsed": false
   },
   "source": [
    "Expand and collect like terms for $(-4x-7y)+(6x-4y+5)i=0$."
   ]
  },
  {
   "cell_type": "code",
   "execution_count": 95,
   "metadata": {
    "collapsed": false
   },
   "outputs": [
   ],
   "source": [
    "A=matrix([[-4,-7],[6,-4]])"
   ]
  },
  {
   "cell_type": "code",
   "execution_count": 96,
   "metadata": {
    "collapsed": false
   },
   "outputs": [
   ],
   "source": [
    "b=matrix([[0,-5]])"
   ]
  },
  {
   "cell_type": "code",
   "execution_count": 97,
   "metadata": {
    "collapsed": false
   },
   "outputs": [
    {
     "data": {
      "text/plain": [
       "[-35/58]\n",
       "[ 10/29]"
      ]
     },
     "execution_count": 97,
     "metadata": {
     },
     "output_type": "execute_result"
    }
   ],
   "source": [
    "~A*b.transpose()"
   ]
  },
  {
   "cell_type": "markdown",
   "metadata": {
    "collapsed": false
   },
   "source": [
    "$S=\\{(x,y)\\in\\mathbb{R}^{2}|x=-\\frac{35}{58},y=\\frac{10}{29}\\}$"
   ]
  },
  {
   "cell_type": "markdown",
   "metadata": {
    "collapsed": false
   },
   "source": [
    "**Lab 4 Question 2**"
   ]
  },
  {
   "cell_type": "markdown",
   "metadata": {
    "collapsed": false
   },
   "source": [
    "Convert the following expression to rectangular form with\n",
    "and without Euler's formula,\n",
    "$$\n",
    "  \\frac{3+\\sqrt{-4}}{4-i}\n",
    "$$"
   ]
  },
  {
   "cell_type": "code",
   "execution_count": 99,
   "metadata": {
    "collapsed": false
   },
   "outputs": [
    {
     "data": {
      "text/plain": [
       "11/17*I + 10/17"
      ]
     },
     "execution_count": 99,
     "metadata": {
     },
     "output_type": "execute_result"
    }
   ],
   "source": [
    "(3+2*i)/(4-i)"
   ]
  },
  {
   "cell_type": "markdown",
   "metadata": {
    "collapsed": false
   },
   "source": [
    "The answer is $\\frac{10}{17}+\\frac{11}{17}\\cdot{}i$."
   ]
  },
  {
   "cell_type": "markdown",
   "metadata": {
    "collapsed": false
   },
   "source": [
    "**Lab 4 Question 3**"
   ]
  },
  {
   "cell_type": "markdown",
   "metadata": {
    "collapsed": false
   },
   "source": [
    "Perform the indicated operations.\n",
    "$$\n",
    "(1-i)^{10}  \n",
    "$$\n",
    "<hr>\n",
    "$$\n",
    "(\\sqrt{3}+i)^{8}(1+i)^{5}  \n",
    "$$\n",
    "<hr>\n",
    "$$\n",
    "(\\sqrt{3}-i)^{-8}  \n",
    "$$"
   ]
  },
  {
   "cell_type": "code",
   "execution_count": 100,
   "metadata": {
    "collapsed": false
   },
   "outputs": [
    {
     "data": {
      "text/plain": [
       "-32*I"
      ]
     },
     "execution_count": 100,
     "metadata": {
     },
     "output_type": "execute_result"
    }
   ],
   "source": [
    "(1-i)^10"
   ]
  },
  {
   "cell_type": "code",
   "execution_count": 104,
   "metadata": {
    "collapsed": false,
    "scrolled": true
   },
   "outputs": [
   ],
   "source": [
    "A=matrix([[real_part((sqrt(3)+i)^8*(1+i)^5)],[imag_part((sqrt(3)+i)^8*(1+i)^5)]])"
   ]
  },
  {
   "cell_type": "code",
   "execution_count": 105,
   "metadata": {
    "collapsed": false
   },
   "outputs": [
    {
     "data": {
      "text/plain": [
       "[-512*sqrt(3) + 512]\n",
       "[ 512*sqrt(3) + 512]"
      ]
     },
     "execution_count": 105,
     "metadata": {
     },
     "output_type": "execute_result"
    }
   ],
   "source": [
    "A"
   ]
  },
  {
   "cell_type": "code",
   "execution_count": 106,
   "metadata": {
    "collapsed": false
   },
   "outputs": [
   ],
   "source": [
    "B=matrix([[real_part((sqrt(3)-i)^(-8))],[imag_part((sqrt(3)-i)^(-8))]])"
   ]
  },
  {
   "cell_type": "code",
   "execution_count": 107,
   "metadata": {
    "collapsed": false
   },
   "outputs": [
    {
     "data": {
      "text/plain": [
       "[        -1/512]\n",
       "[-1/512*sqrt(3)]"
      ]
     },
     "execution_count": 107,
     "metadata": {
     },
     "output_type": "execute_result"
    }
   ],
   "source": [
    "B"
   ]
  },
  {
   "cell_type": "markdown",
   "metadata": {
    "collapsed": false
   },
   "source": [
    "The answers are $-32i$; $512((1-\\sqrt{3})+(1+\\sqrt{3})i)$; $-\\frac{1}{512}\\left(1+\\sqrt{3}\\cdot{}i\\right)$. They are found by converting to polar form first, then using Euler's formula to work out the exponents, then reconverting to polar and finally to rectangular form."
   ]
  },
  {
   "cell_type": "markdown",
   "metadata": {
    "collapsed": false
   },
   "source": [
    "Here is an alternative but equivalent solution for $(\\sqrt{3}+i)^{8}(1+i)^{5}$:"
   ]
  },
  {
   "cell_type": "markdown",
   "metadata": {
    "collapsed": false
   },
   "source": [
    "<img src=\"la-lab-4-q3-answer.png\">"
   ]
  },
  {
   "cell_type": "markdown",
   "metadata": {
    "collapsed": false
   },
   "source": [
    "**Lab 4 Question 4**"
   ]
  },
  {
   "cell_type": "markdown",
   "metadata": {
    "collapsed": false
   },
   "source": [
    "Show that $\\frac{1}{2}(1+\\sqrt{-3})$ is the reciprocal of\n",
    "its conjugate. (The reciprocal of $x$ is $1/x$.)"
   ]
  },
  {
   "cell_type": "markdown",
   "metadata": {
    "collapsed": false
   },
   "source": [
    "$$\\frac{1}{\\frac{1}{2}(1-i\\sqrt{3})}=\\frac{2\\cdot(1+i\\sqrt{3})}{(1-i\\sqrt{3})(1+i\\sqrt{3})}=\\frac{1}{2}(1+i\\sqrt{3})$$"
   ]
  },
  {
   "cell_type": "markdown",
   "metadata": {
    "collapsed": false
   },
   "source": [
    "**Lab 4 Question 5**"
   ]
  },
  {
   "cell_type": "markdown",
   "metadata": {
    "collapsed": false
   },
   "source": [
    "Find the fifth roots of $\\sqrt{-1024}$."
   ]
  },
  {
   "cell_type": "markdown",
   "metadata": {
    "collapsed": false
   },
   "source": [
    "$$  \\sqrt[5]{\\sqrt{-1024}}=(32i)^{\\frac{1}{5}}=\\left(32\\cdot(\\cos(90^{\\circ})+i\\sin(90^{\\circ}))\\right)^{\\frac{1}{5}}=\\left(32\\cdot{}e^{i\\cdot{}90^{\\circ}}\\right)^{\\frac{1}{5}}=2\\cdot\\left(\\cos(18^{\\circ})+i\\sin(18^{\\circ})\\right)$$"
   ]
  },
  {
   "cell_type": "markdown",
   "metadata": {
    "collapsed": false
   },
   "source": [
    "$18^{\\circ}$ is only one possible angle. The others are $90^{\\circ},162^{\\circ},234^{\\circ}$, and $306^{\\circ}$."
   ]
  },
  {
   "cell_type": "code",
   "execution_count": 115,
   "metadata": {
    "collapsed": false
   },
   "outputs": [
   ],
   "source": [
    "A=matrix([[n(real_part(2*(cos(18*pi/180)+i*sin(18*pi/180)))),n(imag_part(2*(cos(18*pi/180)+i*sin(18*pi/180))))],[n(real_part(2*(cos(90*pi/180)+i*sin(90*pi/180)))),n(imag_part(2*(cos(90*pi/180)+i*sin(90*pi/180))))],[n(real_part(2*(cos(162*pi/180)+i*sin(162*pi/180)))),n(imag_part(2*(cos(162*pi/180)+i*sin(162*pi/180))))],[n(real_part(2*(cos(234*pi/180)+i*sin(234*pi/180)))),n(imag_part(2*(cos(234*pi/180)+i*sin(234*pi/180))))],[n(real_part(2*(cos(306*pi/180)+i*sin(306*pi/180)))),n(imag_part(2*(cos(306*pi/180)+i*sin(306*pi/180))))]])"
   ]
  },
  {
   "cell_type": "code",
   "execution_count": 116,
   "metadata": {
    "collapsed": false
   },
   "outputs": [
    {
     "data": {
      "text/plain": [
       "[ 1.90211303259031 0.618033988749895]\n",
       "[0.000000000000000  2.00000000000000]\n",
       "[-1.90211303259031 0.618033988749895]\n",
       "[-1.17557050458495 -1.61803398874989]\n",
       "[ 1.17557050458495 -1.61803398874989]"
      ]
     },
     "execution_count": 116,
     "metadata": {
     },
     "output_type": "execute_result"
    }
   ],
   "source": [
    "A"
   ]
  },
  {
   "cell_type": "markdown",
   "metadata": {
    "collapsed": false
   },
   "source": [
    "The roots are $1.90+0.62i,2i,-1.90+0.62i,-1.18-1.62i,1.18-1.62i$. You can verify that they are the vertices of a pentagon."
   ]
  },
  {
   "cell_type": "markdown",
   "metadata": {
    "collapsed": false
   },
   "source": [
    "**Lab 4 Question 6**"
   ]
  },
  {
   "cell_type": "markdown",
   "metadata": {
    "collapsed": false
   },
   "source": [
    "Consider the vector space of quadratic polynomials\n",
    "$$\n",
    "V=\\{f|f(x)=ax^{2}+bx+c\\}  \n",
    "$$\n",
    "Are the following three quadratic polynomials a basis for $V$?\n",
    "$$\n",
    "  \\begin{array}{rcl}\n",
    "    f_{1}(x)&=&3x^{2}+x+6 \\\\\n",
    "    f_{2}(x)&=&5x^{2}+x+11 \\\\\n",
    "    f_{3}(x)&=&-2x^{2}-6x+4\n",
    "  \\end{array}\n",
    "$$\n",
    "\n",
    "* If yes, find the coordinates in terms of this basis for $7x^{2}-x-4$.\n",
    "* If no, express one of the $f_{i}$ by the others, $i=1,2,3$. \n"
   ]
  },
  {
   "cell_type": "markdown",
   "metadata": {
    "collapsed": false
   },
   "source": [
    "Consider the determinant of the following matrix."
   ]
  },
  {
   "cell_type": "code",
   "execution_count": 117,
   "metadata": {
    "collapsed": false
   },
   "outputs": [
   ],
   "source": [
    "G=matrix([[3,5,-2],[1,1,-6],[6,11,4]])"
   ]
  },
  {
   "cell_type": "code",
   "execution_count": 118,
   "metadata": {
    "collapsed": false
   },
   "outputs": [
    {
     "data": {
      "text/plain": [
       "0"
      ]
     },
     "execution_count": 118,
     "metadata": {
     },
     "output_type": "execute_result"
    }
   ],
   "source": [
    "G.determinant()"
   ]
  },
  {
   "cell_type": "markdown",
   "metadata": {
    "collapsed": false
   },
   "source": [
    "This means that the three polynomials are linearly dependent. Set up the following augmented matrix to express $f_{3}$ as a linear combination of $f_{1}$ and $f_{2}$."
   ]
  },
  {
   "cell_type": "code",
   "execution_count": 120,
   "metadata": {
    "collapsed": false
   },
   "outputs": [
   ],
   "source": [
    "A=matrix([[3,5,-2],[1,1,-6],[6,11,4]])"
   ]
  },
  {
   "cell_type": "code",
   "execution_count": 121,
   "metadata": {
    "collapsed": false
   },
   "outputs": [
    {
     "data": {
      "text/plain": [
       "[  1   0 -14]\n",
       "[  0   1   8]\n",
       "[  0   0   0]"
      ]
     },
     "execution_count": 121,
     "metadata": {
     },
     "output_type": "execute_result"
    }
   ],
   "source": [
    "A.echelon_form()"
   ]
  },
  {
   "cell_type": "markdown",
   "metadata": {
    "collapsed": false
   },
   "source": [
    "Consequently, \n",
    "$$\n",
    "f_{3}=(-14)\\cdot{}f_{1}+8\\cdot{}f_{2}\n",
    "$$"
   ]
  },
  {
   "cell_type": "markdown",
   "metadata": {
    "collapsed": false
   },
   "source": [
    "**Lab 4 Question 7**"
   ]
  },
  {
   "cell_type": "markdown",
   "metadata": {
    "collapsed": false
   },
   "source": [
    "Consider the vector space of lines in $\\mathbb{R}^{3}$\n",
    "going through the origin.\n",
    "$$\n",
    "W=\\{L|L:ax+by+cz=0\\}  \n",
    "$$\n",
    "Are the following three lines a basis for $W$?\n",
    "$$\n",
    "  \\begin{array}{rcl}\n",
    "    L_{1}&:&2x+5y+z=0 \\\\\n",
    "    L_{2}&:&x-y-2z=0 \\\\\n",
    "    L_{3}&:&-3x+4z=0\n",
    "  \\end{array}\n",
    "$$\n",
    "\n",
    "* If yes, find the coordinates in terms of this basis for $L:14x+9y-12z=0$.\n",
    "* If no, express one of the $L_{i}$ by the others, $i=1,2,3$. \n"
   ]
  },
  {
   "cell_type": "markdown",
   "metadata": {
    "collapsed": false
   },
   "source": [
    "Consider the determinant of the following matrix."
   ]
  },
  {
   "cell_type": "code",
   "execution_count": 123,
   "metadata": {
    "collapsed": false
   },
   "outputs": [
   ],
   "source": [
    "H=matrix([[2,1,-3],[5,-1,0],[1,-2,4]])"
   ]
  },
  {
   "cell_type": "code",
   "execution_count": 124,
   "metadata": {
    "collapsed": false,
    "scrolled": true
   },
   "outputs": [
    {
     "data": {
      "text/plain": [
       "-1"
      ]
     },
     "execution_count": 124,
     "metadata": {
     },
     "output_type": "execute_result"
    }
   ],
   "source": [
    "H.determinant()"
   ]
  },
  {
   "cell_type": "markdown",
   "metadata": {
    "collapsed": false
   },
   "source": [
    "This means that the three lines are linearly independent. Set up the following system of linear equations to express $L$ as a linear combination of $L_{1},L_{2}$ and $L_{3}$."
   ]
  },
  {
   "cell_type": "code",
   "execution_count": 126,
   "metadata": {
    "collapsed": false
   },
   "outputs": [
   ],
   "source": [
    "v=matrix([14,9,-12])"
   ]
  },
  {
   "cell_type": "code",
   "execution_count": 129,
   "metadata": {
    "collapsed": false,
    "scrolled": true
   },
   "outputs": [
    {
     "data": {
      "text/plain": [
       "[ 2]\n",
       "[ 1]\n",
       "[-3]"
      ]
     },
     "execution_count": 129,
     "metadata": {
     },
     "output_type": "execute_result"
    }
   ],
   "source": [
    "~H*v.transpose()"
   ]
  },
  {
   "cell_type": "markdown",
   "metadata": {
    "collapsed": false
   },
   "source": [
    "Consequently,\n",
    "$$\n",
    "L=2L_{1}+L_{2}-3L_{3}\n",
    "$$"
   ]
  },
  {
   "cell_type": "markdown",
   "metadata": {
    "collapsed": false
   },
   "source": [
    "**Lab 5 All Questions**"
   ]
  },
  {
   "cell_type": "markdown",
   "metadata": {
    "collapsed": false
   },
   "source": [
    "The solutions are available in D2L. The filename is <tt>la-lab-05-answers.pdf</tt>."
   ]
  }
 ],
 "metadata": {
  "kernelspec": {
   "display_name": "SageMath 8.3",
   "name": "sage-8.3"
  },
  "language_info": {
   "codemirror_mode": {
    "name": "ipython",
    "version": 2
   },
   "file_extension": ".py",
   "mimetype": "text/x-python",
   "name": "python",
   "nbconvert_exporter": "python",
   "pygments_lexer": "ipython2",
   "version": "2.7.15"
  }
 },
 "nbformat": 4,
 "nbformat_minor": 0
}