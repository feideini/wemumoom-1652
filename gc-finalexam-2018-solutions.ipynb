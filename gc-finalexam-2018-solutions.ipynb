{
 "cells": [
  {
   "cell_type": "markdown",
   "metadata": {
    "collapsed": false
   },
   "source": [
    "<img src=\"gc-finalexam-2018-solutions-01.png\">"
   ]
  },
  {
   "cell_type": "markdown",
   "metadata": {
    "collapsed": false
   },
   "source": [
    "Evaluate the following limit. $$\\lim_{x\\rightarrow{}0}\\frac{x-\\sin{}x}{x^{3}}$$"
   ]
  },
  {
   "cell_type": "markdown",
   "metadata": {
    "collapsed": false
   },
   "source": [
    "Solution: $$\\lim_{x\\rightarrow{}0}\\frac{x-\\sin{}x}{x^{3}}\\stackrel{\\mbox{LHR}}{=}\\lim_{x\\rightarrow{}0}\\frac{1-\\cos{}x}{3x^{2}}\\stackrel{\\mbox{LHR}}{=}\\frac{1}{3}\\lim_{x\\rightarrow{}0}\\frac{\\sin{}x}{2x}\\stackrel{\\mbox{LHR}}{=}\\frac{1}{6}\\lim_{x\\rightarrow{}0}\\frac{\\cos{}x}{1}=\\frac{1}{6}$$"
   ]
  },
  {
   "cell_type": "markdown",
   "metadata": {
    "collapsed": false
   },
   "source": [
    "Evaluate the following limit. $$\\lim_{n\\rightarrow\\infty}\\sum_{k=1}^{n}\\frac{2^{k}}{3^{k+2}}$$"
   ]
  },
  {
   "cell_type": "markdown",
   "metadata": {
    "collapsed": false
   },
   "source": [
    "<img src=\"gc-finalexam-2018-solutions-02.png\">"
   ]
  },
  {
   "cell_type": "markdown",
   "metadata": {
    "collapsed": false
   },
   "source": [
    "All boxes with a square base and a volume of 50ft$^{3}$\n",
    "have a surface area given by $$S(x)=2x^{2}+\\frac{200}{x}$$ where $x$ is the length of the sides of the base. Find the absolute\n",
    "minimum of the surface area function. What are the dimensions of the\n",
    "box with minimum surface area?\n"
   ]
  },
  {
   "cell_type": "markdown",
   "metadata": {
    "collapsed": false
   },
   "source": [
    "<image src=\"gc-finalexam-2018-solutions-03.png\">"
   ]
  },
  {
   "cell_type": "markdown",
   "metadata": {
    "collapsed": false
   },
   "source": [
    "Consider the two curves $y=\\sin{}x$ and $y=\\sin{}(2x)$.\n",
    "They intersect three times between $x=0$ and $x=\\pi$, call these\n",
    "intersection points $A,B,C$ from left to right. What is the total area\n",
    "between these two curves from $x=B$ to $x=C$? If part of this area is\n",
    "below the $x$-axis, it is added to the total area, not subtracted. "
   ]
  },
  {
   "cell_type": "markdown",
   "metadata": {
    "collapsed": false
   },
   "source": [
    "<image src=\"gc-finalexam-2018-solutions-04.png\">"
   ]
  },
  {
   "cell_type": "markdown",
   "metadata": {
    "collapsed": false
   },
   "source": [
    "<image src=\"gc-finalexam-2018-solutions-05.png\">"
   ]
  },
  {
   "cell_type": "markdown",
   "metadata": {
    "collapsed": false
   },
   "source": [
    "Evaluate the following definite integral. Present your answer as $\\ln(n/m)$, where $n$ and\n",
    "$m$ are whole numbers. $$\\int_{-1}^{1}\\frac{3x}{x^{2}+2x-8}\\,dx$$"
   ]
  },
  {
   "cell_type": "markdown",
   "metadata": {
    "collapsed": false
   },
   "source": [
    "<image src=\"gc-finalexam-2018-solutions-06.png\">"
   ]
  },
  {
   "cell_type": "markdown",
   "metadata": {
    "collapsed": false
   },
   "source": [
    "Evaluate the following definite integral. $$\\int_{0}^{\\infty}e^{-3x}\\,dx$$"
   ]
  },
  {
   "cell_type": "markdown",
   "metadata": {
    "collapsed": false
   },
   "source": [
    "<image src=\"gc-finalexam-2018-solutions-07.png\">"
   ]
  },
  {
   "cell_type": "markdown",
   "metadata": {
    "collapsed": false
   },
   "source": [
    "Consider the following three points: $$P=(3,1,2)\\hspace{.5in}Q=(0,-6,3)\\hspace{.5in}R=(-1,-5,5)$$ $P,Q,R$ form a triangle, and $$\\vec{PQ}\\times\\vec{PR}=\\left(\n",
    "    \\begin{array}{c}\n",
    "      -3     & \n",
    "           1 & \n",
    "               -2 \n",
    "    \\end{array}\n",
    "\\right)$$ \n",
    "* Provide the line equation for the plane containing the triangle.\n",
    "* Calculate the three interior angles of the triangle."
   ]
  },
  {
   "cell_type": "markdown",
   "metadata": {
    "collapsed": false
   },
   "source": [
    "<image src=\"gc-finalexam-2018-solutions-08.png\">"
   ]
  },
  {
   "cell_type": "markdown",
   "metadata": {
    "collapsed": false
   },
   "source": [
    "<image src=\"gc-finalexam-2018-solutions-09.png\">"
   ]
  },
  {
   "cell_type": "markdown",
   "metadata": {
    "collapsed": false
   },
   "source": [
    "Find the critical points of the following function. Use\n",
    "the Second Derivative Test to determine (if possible) whether each\n",
    "critical point corresponds to a local maximum, local minimum, or\n",
    "saddle point. $$f(x,y)=(4x-1)^{2}+(2y+4)^{2}+1  $$"
   ]
  },
  {
   "cell_type": "markdown",
   "metadata": {
    "collapsed": false
   },
   "source": [
    "<image src=\"gc-finalexam-2018-solutions-10.png\">"
   ]
  },
  {
   "cell_type": "markdown",
   "metadata": {
    "collapsed": false
   },
   "source": [
    "Let $$f(x)=\\frac{1}{1+2x}$$ Use the Maclaurin series expansion to approximate $$f(x)\\approx{}c_{0}+c_{1}x+c_{2}x^{2}+c_{3}x^{3}+c_{4}x^{4}$$ Then, provide the full expansion $$f(x)=\\sum_{n=0}^{\\infty}c_{n}x^{n}$$"
   ]
  },
  {
   "cell_type": "markdown",
   "metadata": {
    "collapsed": false
   },
   "source": [
    "<image src=\"gc-finalexam-2018-solutions-11.png\">"
   ]
  },
  {
   "cell_type": "markdown",
   "metadata": {
    "collapsed": false
   },
   "source": [
    "<image src=\"gc-finalexam-2018-solutions-12.png\">"
   ]
  }
 ],
 "metadata": {
  "kernelspec": {
   "display_name": "SageMath (stable)",
   "name": "sagemath"
  },
  "language_info": {
   "codemirror_mode": {
    "name": "ipython",
    "version": 2
   },
   "file_extension": ".py",
   "mimetype": "text/x-python",
   "name": "python",
   "nbconvert_exporter": "python",
   "pygments_lexer": "ipython2",
   "version": "2.7.14"
  }
 },
 "nbformat": 4,
 "nbformat_minor": 0
}