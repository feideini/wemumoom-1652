{
 "cells": [
  {
   "cell_type": "markdown",
   "metadata": {
    "collapsed": false
   },
   "source": [
    "**(1)** The cost of fuel for running a train is proportional to the square of the speed maintained, and is \\$50 per hour when the speed is 20 mph. Other charges, such as labour, for example, are \\$200 per hour. What should be the speed for a 500-mile trip in order that the total cost shall be as little as possible?"
   ]
  },
  {
   "cell_type": "markdown",
   "metadata": {
    "collapsed": false
   },
   "source": [
    "First we express the cost per hour for fuel. If $C$ represents this cost, $$C=ks^{2},$$ where $s$ is the speed in mph. Since $C=50$ when $s=20$, $$50=400k$$ and"
   ]
  },
  {
   "cell_type": "code",
   "execution_count": 1,
   "metadata": {
    "collapsed": false
   },
   "outputs": [
    {
     "name": "stdout",
     "output_type": "stream",
     "text": [
      "k = 0 + 1/8\n"
     ]
    }
   ],
   "source": [
    "k=rat(50/400)"
   ]
  },
  {
   "cell_type": "markdown",
   "metadata": {
    "collapsed": false
   },
   "source": [
    "The cost per hour for fuel is therefore $\\frac{1}{8}s^{2}$. Since other costs are \\$200 per hour, the total cost per hour is $\\frac{1}{8}s^{2}+200$. The number of hours needed to make a 500-mile trip at $s$ miles per hour is $500/s$. Therefore, the total cost for the trip is $$A(s)=\\frac{500}{s}\\left(\\frac{1}{8}s^{2}+200\\right)=\\frac{125}{2}s+\\frac{100000}{s},$$ in which $s>0$. Differentiating, $$A'(s)=\\frac{125}{2}-\\frac{100000}{s^{2}}$$"
   ]
  },
  {
   "cell_type": "markdown",
   "metadata": {
    "collapsed": false
   },
   "source": [
    "Set the derivative to zero and solve the equation $$\\frac{125}{2}=\\frac{100000}{s^{2}}$$ Cross-multiply for $s=40$. The cost is minimal at 40 mph. (Strictly speaking, you should find the second derivative to ensure that the critical point is a minimum.)"
   ]
  },
  {
   "cell_type": "markdown",
   "metadata": {
    "collapsed": false
   },
   "source": [
    "**(2)** The product of the concentration of hydrogen ions, $C_{h^{+}}$, and hydroxyl ions, $C_{oh^{-}}$, in any aqueous solution is a constant $=10^{-14}$. At what concentration of hydrogen ions will the sum of hydrogen ions and hydroxyl ions be a minimum?"
   ]
  },
  {
   "cell_type": "markdown",
   "metadata": {
    "collapsed": false
   },
   "source": [
    "Let $x$ be the concentration of hydrogen ions, $y$ the concentration of hydroxyl ions. The sum of the ions is $$S(x)=x+y$$ with the side constraint $$x\\cdot{}y=10^{-14}$$ Therefore, $S(x)$ without the variable $y$ is $$S(x)=x+\\frac{1}{x\\cdot{}10^{14}}$$"
   ]
  },
  {
   "cell_type": "code",
   "execution_count": 0,
   "metadata": {
    "collapsed": false
   },
   "outputs": [
   ],
   "source": [
    "S(x)=x+1/(x*10^14)"
   ]
  },
  {
   "cell_type": "code",
   "execution_count": 0,
   "metadata": {
    "collapsed": false
   },
   "outputs": [
   ],
   "source": [
    "Sp(x)=diff(S(x),x)"
   ]
  },
  {
   "cell_type": "markdown",
   "metadata": {
    "collapsed": false
   },
   "source": [
    "$$S'(x)=-\\frac{1}{10^{14} \\, x^{2}} + 1$$"
   ]
  },
  {
   "cell_type": "markdown",
   "metadata": {
    "collapsed": false
   },
   "source": [
    "Set $S'(x)=0$ for $x=10^{-7}$. The sum of hydrogen ions and hydroxyl ions will be a minimum at hydrogen ion concentration of $10^{-7}$."
   ]
  },
  {
   "cell_type": "markdown",
   "metadata": {
    "collapsed": false
   },
   "source": [
    "**(3)** Find the number that exceeds its square by the greatest amount."
   ]
  },
  {
   "cell_type": "markdown",
   "metadata": {
    "collapsed": false
   },
   "source": [
    "Maximize the function $D(x)=x-x^{2}$."
   ]
  },
  {
   "cell_type": "code",
   "execution_count": 2,
   "metadata": {
    "collapsed": false
   },
   "outputs": [
   ],
   "source": [
    "D(x)=x-x^2"
   ]
  },
  {
   "cell_type": "code",
   "execution_count": 3,
   "metadata": {
    "collapsed": false
   },
   "outputs": [
   ],
   "source": [
    "Dp(x)=diff(D(x),x)"
   ]
  },
  {
   "cell_type": "markdown",
   "metadata": {
    "collapsed": false
   },
   "source": [
    "$$D'(x)=-2 \\, x + 1$$ Now set the derivative to zero and note that $x=\\frac{1}{2}$. The number that exceeds its square by the greatest\n",
    "amount is $\\frac{1}{2}$."
   ]
  },
  {
   "cell_type": "markdown",
   "metadata": {
    "collapsed": false
   },
   "source": [
    "**(4)** A rectangular garden is to be surrounded by a fence and\n",
    "divided into two equal parts by a fence parallel to one side. If the\n",
    "area is to be 600 square feet, what should be the dimensions in order\n",
    "to require the least amount of fencing?"
   ]
  },
  {
   "cell_type": "markdown",
   "metadata": {
    "collapsed": false
   },
   "source": [
    "The amount of fencing as a function of the width $x$ and the length $y$ is $$F(x)=3x+2y$$ The side constraint is $$y=\\frac{600}{x}$$ Differentiate $F(x)=3x+\\frac{1200}{x}$"
   ]
  },
  {
   "cell_type": "code",
   "execution_count": 1,
   "metadata": {
    "collapsed": false
   },
   "outputs": [
   ],
   "source": [
    "F(x)=3*x+(1200/x)"
   ]
  },
  {
   "cell_type": "code",
   "execution_count": 2,
   "metadata": {
    "collapsed": false
   },
   "outputs": [
   ],
   "source": [
    "Fp(x)=diff(F(x),x)"
   ]
  },
  {
   "cell_type": "markdown",
   "metadata": {
    "collapsed": false
   },
   "source": [
    "$$F'(x)=-\\frac{1200}{x^{2}} + 3$$"
   ]
  },
  {
   "cell_type": "markdown",
   "metadata": {
    "collapsed": false
   },
   "source": [
    "Set the derivative to zero for $x=20$. The dimensions should be $x=20,y=30$ in order\n",
    "to require the least amount of fencing."
   ]
  },
  {
   "cell_type": "markdown",
   "metadata": {
    "collapsed": false
   },
   "source": [
    "**(5)**  Find the dimensions (height and radius) of the largest (in\n",
    "volume) right circular cylinder that can be inscribed in a sphere six\n",
    "inches in diameter."
   ]
  },
  {
   "cell_type": "markdown",
   "metadata": {
    "collapsed": false
   },
   "source": [
    "<img src=\"cooleyopt.png\">"
   ]
  },
  {
   "cell_type": "markdown",
   "metadata": {
    "collapsed": false
   },
   "source": [
    "The volume of the cylinder in terms of the radius of its base is $$V(r)=r^{2}\\pi{}h$$"
   ]
  },
  {
   "cell_type": "markdown",
   "metadata": {
    "collapsed": false
   },
   "source": [
    "The side constraint is $$h^{2}+(2r)^{2}=6^{2}$$ or simplified $$h=2\\sqrt{9-r^{2}}$$"
   ]
  },
  {
   "cell_type": "markdown",
   "metadata": {
    "collapsed": false
   },
   "source": [
    "$V$ as a function of one variable is therefore $$V(r)=2\\pi{}r^{2}\\sqrt{9-r^{2}}$$"
   ]
  },
  {
   "cell_type": "raw",
   "metadata": {
    "collapsed": false
   },
   "source": [
    "r=var('r')"
   ]
  },
  {
   "cell_type": "code",
   "execution_count": 2,
   "metadata": {
    "collapsed": false
   },
   "outputs": [
   ],
   "source": [
    "V(r)=2*pi*r^2*(9-r^2)^(1/2)"
   ]
  },
  {
   "cell_type": "code",
   "execution_count": 3,
   "metadata": {
    "collapsed": false
   },
   "outputs": [
   ],
   "source": [
    "Vp(r)=diff(V(r),r)"
   ]
  },
  {
   "cell_type": "markdown",
   "metadata": {
    "collapsed": false
   },
   "source": [
    "$$V'(r)=-\\frac{2 \\, \\pi r^{3}}{\\sqrt{-r^{2} + 9}} + 4 \\, \\pi{}r \\sqrt{-r^{2} + 9}$$ Now set the derivative to zero for $$\\sqrt{9-r^{2}}=\\frac{r^{2}}{2\\sqrt{9-r^{2}}}$$ and eventually $$r=\\sqrt{6}$$ The dimensions of the largest right circular cylinder that can be inscribed in a sphere six inches in diameter are $r=\\sqrt{6},h=2\\sqrt{3}$."
   ]
  }
 ],
 "metadata": {
  "kernelspec": {
   "display_name": "SageMath (stable)",
   "name": "sagemath"
  },
  "language_info": {
   "codemirror_mode": {
    "name": "ipython",
    "version": 2
   },
   "file_extension": ".py",
   "mimetype": "text/x-python",
   "name": "python",
   "nbconvert_exporter": "python",
   "pygments_lexer": "ipython2",
   "version": "2.7.14"
  }
 },
 "nbformat": 4,
 "nbformat_minor": 0
}